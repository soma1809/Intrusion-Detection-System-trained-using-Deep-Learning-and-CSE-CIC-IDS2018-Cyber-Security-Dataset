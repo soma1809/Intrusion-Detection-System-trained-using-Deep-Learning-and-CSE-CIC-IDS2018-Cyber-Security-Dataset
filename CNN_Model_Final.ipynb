{
 "cells": [
  {
   "cell_type": "markdown",
   "metadata": {
    "id": "40iCxpZ6sPg-"
   },
   "source": [
    "**Mounting the drive.**"
   ]
  },
  {
   "cell_type": "code",
   "execution_count": 2,
   "metadata": {},
   "outputs": [
    {
     "name": "stdout",
     "output_type": "stream",
     "text": [
      "C:\\Users\n"
     ]
    }
   ],
   "source": [
    "%cd .."
   ]
  },
  {
   "cell_type": "code",
   "execution_count": 3,
   "metadata": {},
   "outputs": [
    {
     "name": "stdout",
     "output_type": "stream",
     "text": [
      "C:\\\n"
     ]
    }
   ],
   "source": [
    "%cd .."
   ]
  },
  {
   "cell_type": "code",
   "execution_count": 4,
   "metadata": {
    "colab": {
     "base_uri": "https://localhost:8080/"
    },
    "id": "LA35rVkBsvlZ",
    "outputId": "676dd738-82ac-4ced-b1f9-5c39c8a9e12c"
   },
   "outputs": [
    {
     "name": "stdout",
     "output_type": "stream",
     "text": [
      " Volume in drive C is OS\n",
      " Volume Serial Number is C2D4-704C\n",
      "\n",
      " Directory of C:\\\n",
      "\n",
      "01/31/2020  06:25 PM               552 AsusPTPService.log\n",
      "04/06/2023  11:30 PM    <DIR>          CIC-IDS-2018-Dataset\n",
      "08/25/2021  12:02 PM    <DIR>          Config\n",
      "08/13/2020  10:17 PM    <DIR>          Downloads\n",
      "05/09/2021  04:03 PM    <DIR>          DRIVERS\n",
      "02/01/2022  06:58 AM    <DIR>          EAGLE 9.6.2\n",
      "11/07/2007  08:00 AM            17,734 eula.1028.txt\n",
      "11/07/2007  08:00 AM            17,734 eula.1031.txt\n",
      "11/07/2007  08:00 AM            10,134 eula.1033.txt\n",
      "11/07/2007  08:00 AM            17,734 eula.1036.txt\n",
      "11/07/2007  08:00 AM            17,734 eula.1040.txt\n",
      "11/07/2007  08:00 AM               118 eula.1041.txt\n",
      "11/07/2007  08:00 AM            17,734 eula.1042.txt\n",
      "11/07/2007  08:00 AM            17,734 eula.2052.txt\n",
      "11/07/2007  08:00 AM            17,734 eula.3082.txt\n",
      "11/24/2022  09:42 AM             3,647 GetDeviceCap.xml\n",
      "11/24/2022  09:42 AM             4,392 GetDeviceStatus.xml\n",
      "11/07/2007  08:00 AM             1,110 globdata.ini\n",
      "11/07/2007  08:03 AM           562,688 install.exe\n",
      "11/07/2007  08:00 AM               843 install.ini\n",
      "11/07/2007  08:03 AM            76,304 install.res.1028.dll\n",
      "11/07/2007  08:03 AM            96,272 install.res.1031.dll\n",
      "11/07/2007  08:03 AM            91,152 install.res.1033.dll\n",
      "11/07/2007  08:03 AM            97,296 install.res.1036.dll\n",
      "11/07/2007  08:03 AM            95,248 install.res.1040.dll\n",
      "11/07/2007  08:03 AM            81,424 install.res.1041.dll\n",
      "11/07/2007  08:03 AM            79,888 install.res.1042.dll\n",
      "11/07/2007  08:03 AM            75,792 install.res.2052.dll\n",
      "11/07/2007  08:03 AM            96,272 install.res.3082.dll\n",
      "11/28/2021  02:32 PM    <DIR>          intelFPGA\n",
      "11/28/2021  05:07 AM    <DIR>          intelFPGA_lite\n",
      "01/20/2021  04:08 PM    <DIR>          Keil\n",
      "05/10/2021  04:09 PM    <DIR>          Microsoft\n",
      "11/26/2020  06:44 PM    <DIR>          Modeltech_pe_edu_10.4a\n",
      "09/23/2005  02:09 PM           894,976 msdia80.dll\n",
      "10/05/2020  09:49 PM    <DIR>          New Folder\n",
      "01/24/2020  09:27 PM    <DIR>          Others\n",
      "12/07/2019  02:44 PM    <DIR>          PerfLogs\n",
      "01/31/2023  08:16 PM    <DIR>          Program Files\n",
      "02/07/2023  07:22 PM    <DIR>          Program Files (x86)\n",
      "11/24/2022  09:42 AM               850 QueryAllDevice.xml\n",
      "11/24/2022  09:42 AM               228 SetMatrixLEDScript.xml\n",
      "02/07/2023  07:56 PM    <DIR>          ti\n",
      "08/08/2020  10:00 AM    <DIR>          Users\n",
      "11/07/2007  08:09 AM         1,442,522 VC_RED.cab\n",
      "11/07/2007  08:12 AM           232,960 VC_RED.MSI\n",
      "11/07/2007  08:00 AM             5,686 vcredist.bmp\n",
      "12/14/2021  07:13 PM    <DIR>          WCH.CN\n",
      "03/31/2023  10:56 PM    <DIR>          Windows\n",
      "03/05/2020  04:38 PM    <DIR>          Xilinx\n",
      "              30 File(s)      4,074,492 bytes\n",
      "              20 Dir(s)  33,122,521,088 bytes free\n"
     ]
    }
   ],
   "source": [
    "ls"
   ]
  },
  {
   "cell_type": "code",
   "execution_count": 5,
   "metadata": {},
   "outputs": [
    {
     "name": "stdout",
     "output_type": "stream",
     "text": [
      "C:\\CIC-IDS-2018-Dataset\n"
     ]
    }
   ],
   "source": [
    "%cd CIC-IDS-2018-Dataset"
   ]
  },
  {
   "cell_type": "markdown",
   "metadata": {
    "id": "Z8HlhoIJs4Vt"
   },
   "source": [
    "**Reading the contents of file using pandas library.**"
   ]
  },
  {
   "cell_type": "code",
   "execution_count": 6,
   "metadata": {
    "id": "5CayHBavs30x"
   },
   "outputs": [],
   "source": [
    "import pandas as pd\n",
    "import numpy as np"
   ]
  },
  {
   "cell_type": "code",
   "execution_count": 7,
   "metadata": {
    "id": "SZc13jybqGMl"
   },
   "outputs": [],
   "source": [
    "df1 = pd.read_csv('Friday-02-03-2018_TrafficForML_CICFlowMeter.csv')\n",
    "df2 = pd.read_csv('Friday-23-02-2018_TrafficForML_CICFlowMeter.csv')"
   ]
  },
  {
   "cell_type": "code",
   "execution_count": 8,
   "metadata": {
    "id": "pkdwPziTsFyh"
   },
   "outputs": [],
   "source": [
    "df3 = pd.read_csv('Thursday-15-02-2018_TrafficForML_CICFlowMeter.csv')\n",
    "df4 = pd.read_csv('Thursday-22-02-2018_TrafficForML_CICFlowMeter.csv')"
   ]
  },
  {
   "cell_type": "code",
   "execution_count": 9,
   "metadata": {},
   "outputs": [],
   "source": [
    "df5 = pd.read_csv('Wednesday-14-02-2018_TrafficForML_CICFlowMeter.csv')\n",
    "df6 = pd.read_csv('Wednesday-21-02-2018_TrafficForML_CICFlowMeter.csv')"
   ]
  },
  {
   "cell_type": "code",
   "execution_count": 10,
   "metadata": {
    "id": "YrrQq7rCUquD"
   },
   "outputs": [],
   "source": [
    "df = pd.concat([df1,df2, df3, df4, df5, df6], ignore_index=True)"
   ]
  },
  {
   "cell_type": "code",
   "execution_count": 11,
   "metadata": {
    "colab": {
     "base_uri": "https://localhost:8080/",
     "height": 418
    },
    "id": "-3mZ-w7AtIQG",
    "outputId": "9d3d9ab7-0643-4244-d9ad-4121504e40f9"
   },
   "outputs": [
    {
     "data": {
      "text/html": [
       "<div>\n",
       "<style scoped>\n",
       "    .dataframe tbody tr th:only-of-type {\n",
       "        vertical-align: middle;\n",
       "    }\n",
       "\n",
       "    .dataframe tbody tr th {\n",
       "        vertical-align: top;\n",
       "    }\n",
       "\n",
       "    .dataframe thead th {\n",
       "        text-align: right;\n",
       "    }\n",
       "</style>\n",
       "<table border=\"1\" class=\"dataframe\">\n",
       "  <thead>\n",
       "    <tr style=\"text-align: right;\">\n",
       "      <th></th>\n",
       "      <th>Dst Port</th>\n",
       "      <th>Protocol</th>\n",
       "      <th>Timestamp</th>\n",
       "      <th>Flow Duration</th>\n",
       "      <th>Tot Fwd Pkts</th>\n",
       "      <th>Tot Bwd Pkts</th>\n",
       "      <th>TotLen Fwd Pkts</th>\n",
       "      <th>TotLen Bwd Pkts</th>\n",
       "      <th>Fwd Pkt Len Max</th>\n",
       "      <th>Fwd Pkt Len Min</th>\n",
       "      <th>...</th>\n",
       "      <th>Fwd Seg Size Min</th>\n",
       "      <th>Active Mean</th>\n",
       "      <th>Active Std</th>\n",
       "      <th>Active Max</th>\n",
       "      <th>Active Min</th>\n",
       "      <th>Idle Mean</th>\n",
       "      <th>Idle Std</th>\n",
       "      <th>Idle Max</th>\n",
       "      <th>Idle Min</th>\n",
       "      <th>Label</th>\n",
       "    </tr>\n",
       "  </thead>\n",
       "  <tbody>\n",
       "    <tr>\n",
       "      <th>0</th>\n",
       "      <td>443</td>\n",
       "      <td>6</td>\n",
       "      <td>02/03/2018 08:47:38</td>\n",
       "      <td>141385</td>\n",
       "      <td>9</td>\n",
       "      <td>7</td>\n",
       "      <td>553</td>\n",
       "      <td>3773.0</td>\n",
       "      <td>202</td>\n",
       "      <td>0</td>\n",
       "      <td>...</td>\n",
       "      <td>20</td>\n",
       "      <td>0.0</td>\n",
       "      <td>0.0</td>\n",
       "      <td>0.0</td>\n",
       "      <td>0.0</td>\n",
       "      <td>0.0</td>\n",
       "      <td>0.0</td>\n",
       "      <td>0.0</td>\n",
       "      <td>0.0</td>\n",
       "      <td>Benign</td>\n",
       "    </tr>\n",
       "    <tr>\n",
       "      <th>1</th>\n",
       "      <td>49684</td>\n",
       "      <td>6</td>\n",
       "      <td>02/03/2018 08:47:38</td>\n",
       "      <td>281</td>\n",
       "      <td>2</td>\n",
       "      <td>1</td>\n",
       "      <td>38</td>\n",
       "      <td>0.0</td>\n",
       "      <td>38</td>\n",
       "      <td>0</td>\n",
       "      <td>...</td>\n",
       "      <td>20</td>\n",
       "      <td>0.0</td>\n",
       "      <td>0.0</td>\n",
       "      <td>0.0</td>\n",
       "      <td>0.0</td>\n",
       "      <td>0.0</td>\n",
       "      <td>0.0</td>\n",
       "      <td>0.0</td>\n",
       "      <td>0.0</td>\n",
       "      <td>Benign</td>\n",
       "    </tr>\n",
       "    <tr>\n",
       "      <th>2</th>\n",
       "      <td>443</td>\n",
       "      <td>6</td>\n",
       "      <td>02/03/2018 08:47:40</td>\n",
       "      <td>279824</td>\n",
       "      <td>11</td>\n",
       "      <td>15</td>\n",
       "      <td>1086</td>\n",
       "      <td>10527.0</td>\n",
       "      <td>385</td>\n",
       "      <td>0</td>\n",
       "      <td>...</td>\n",
       "      <td>20</td>\n",
       "      <td>0.0</td>\n",
       "      <td>0.0</td>\n",
       "      <td>0.0</td>\n",
       "      <td>0.0</td>\n",
       "      <td>0.0</td>\n",
       "      <td>0.0</td>\n",
       "      <td>0.0</td>\n",
       "      <td>0.0</td>\n",
       "      <td>Benign</td>\n",
       "    </tr>\n",
       "    <tr>\n",
       "      <th>3</th>\n",
       "      <td>443</td>\n",
       "      <td>6</td>\n",
       "      <td>02/03/2018 08:47:40</td>\n",
       "      <td>132</td>\n",
       "      <td>2</td>\n",
       "      <td>0</td>\n",
       "      <td>0</td>\n",
       "      <td>0.0</td>\n",
       "      <td>0</td>\n",
       "      <td>0</td>\n",
       "      <td>...</td>\n",
       "      <td>20</td>\n",
       "      <td>0.0</td>\n",
       "      <td>0.0</td>\n",
       "      <td>0.0</td>\n",
       "      <td>0.0</td>\n",
       "      <td>0.0</td>\n",
       "      <td>0.0</td>\n",
       "      <td>0.0</td>\n",
       "      <td>0.0</td>\n",
       "      <td>Benign</td>\n",
       "    </tr>\n",
       "    <tr>\n",
       "      <th>4</th>\n",
       "      <td>443</td>\n",
       "      <td>6</td>\n",
       "      <td>02/03/2018 08:47:41</td>\n",
       "      <td>274016</td>\n",
       "      <td>9</td>\n",
       "      <td>13</td>\n",
       "      <td>1285</td>\n",
       "      <td>6141.0</td>\n",
       "      <td>517</td>\n",
       "      <td>0</td>\n",
       "      <td>...</td>\n",
       "      <td>20</td>\n",
       "      <td>0.0</td>\n",
       "      <td>0.0</td>\n",
       "      <td>0.0</td>\n",
       "      <td>0.0</td>\n",
       "      <td>0.0</td>\n",
       "      <td>0.0</td>\n",
       "      <td>0.0</td>\n",
       "      <td>0.0</td>\n",
       "      <td>Benign</td>\n",
       "    </tr>\n",
       "  </tbody>\n",
       "</table>\n",
       "<p>5 rows × 80 columns</p>\n",
       "</div>"
      ],
      "text/plain": [
       "   Dst Port  Protocol            Timestamp  Flow Duration  Tot Fwd Pkts  \\\n",
       "0       443         6  02/03/2018 08:47:38         141385             9   \n",
       "1     49684         6  02/03/2018 08:47:38            281             2   \n",
       "2       443         6  02/03/2018 08:47:40         279824            11   \n",
       "3       443         6  02/03/2018 08:47:40            132             2   \n",
       "4       443         6  02/03/2018 08:47:41         274016             9   \n",
       "\n",
       "   Tot Bwd Pkts  TotLen Fwd Pkts  TotLen Bwd Pkts  Fwd Pkt Len Max  \\\n",
       "0             7              553           3773.0              202   \n",
       "1             1               38              0.0               38   \n",
       "2            15             1086          10527.0              385   \n",
       "3             0                0              0.0                0   \n",
       "4            13             1285           6141.0              517   \n",
       "\n",
       "   Fwd Pkt Len Min  ...  Fwd Seg Size Min  Active Mean  Active Std  \\\n",
       "0                0  ...                20          0.0         0.0   \n",
       "1                0  ...                20          0.0         0.0   \n",
       "2                0  ...                20          0.0         0.0   \n",
       "3                0  ...                20          0.0         0.0   \n",
       "4                0  ...                20          0.0         0.0   \n",
       "\n",
       "   Active Max  Active Min  Idle Mean  Idle Std  Idle Max  Idle Min   Label  \n",
       "0         0.0         0.0        0.0       0.0       0.0       0.0  Benign  \n",
       "1         0.0         0.0        0.0       0.0       0.0       0.0  Benign  \n",
       "2         0.0         0.0        0.0       0.0       0.0       0.0  Benign  \n",
       "3         0.0         0.0        0.0       0.0       0.0       0.0  Benign  \n",
       "4         0.0         0.0        0.0       0.0       0.0       0.0  Benign  \n",
       "\n",
       "[5 rows x 80 columns]"
      ]
     },
     "execution_count": 11,
     "metadata": {},
     "output_type": "execute_result"
    }
   ],
   "source": [
    "df.head()"
   ]
  },
  {
   "cell_type": "markdown",
   "metadata": {
    "id": "YTX2pB-ytvM0"
   },
   "source": [
    "**EDA (Exploratory Data Analysis)** \n",
    "\n",
    "For making a proper undertanding of dataset we are using, we will perform a bief EDA (Exploratory Data Analysis). The EDA is sub-divided into:\n",
    "\n",
    "1.   Data Visuals\n",
    "2.  Data Understanding\n",
    "3. Data Analysis\n",
    "\n",
    "\n",
    "\n",
    "\n",
    "\n",
    "\n"
   ]
  },
  {
   "cell_type": "code",
   "execution_count": 12,
   "metadata": {
    "colab": {
     "base_uri": "https://localhost:8080/"
    },
    "id": "_FuMCqPMtV_F",
    "outputId": "c8a7999a-7cc8-410c-9ae9-b96e2c23e72c"
   },
   "outputs": [
    {
     "data": {
      "text/plain": [
       "(6291450, 80)"
      ]
     },
     "execution_count": 12,
     "metadata": {},
     "output_type": "execute_result"
    }
   ],
   "source": [
    "# check the shape of data\n",
    "df.shape"
   ]
  },
  {
   "cell_type": "code",
   "execution_count": 13,
   "metadata": {
    "colab": {
     "base_uri": "https://localhost:8080/"
    },
    "id": "tLPn7_o3uOb1",
    "outputId": "40944921-ecc6-4226-bfa8-fee3004d9ab7"
   },
   "outputs": [
    {
     "name": "stdout",
     "output_type": "stream",
     "text": [
      "Number of Rows (Samples): 6291450\n",
      "Number of Columns (Features): 80\n"
     ]
    }
   ],
   "source": [
    "# check the number of rows and columns\n",
    "print('Number of Rows (Samples): %s' % str((df.shape[0])))\n",
    "print('Number of Columns (Features): %s' % str((df.shape[1])))"
   ]
  },
  {
   "cell_type": "code",
   "execution_count": 14,
   "metadata": {
    "colab": {
     "base_uri": "https://localhost:8080/"
    },
    "id": "n6WPYLQouUxA",
    "outputId": "6734e729-37b8-468c-de3e-840014c9e1e7"
   },
   "outputs": [
    {
     "data": {
      "text/plain": [
       "Index(['Dst Port', 'Protocol', 'Timestamp', 'Flow Duration', 'Tot Fwd Pkts',\n",
       "       'Tot Bwd Pkts', 'TotLen Fwd Pkts', 'TotLen Bwd Pkts', 'Fwd Pkt Len Max',\n",
       "       'Fwd Pkt Len Min', 'Fwd Pkt Len Mean', 'Fwd Pkt Len Std',\n",
       "       'Bwd Pkt Len Max', 'Bwd Pkt Len Min', 'Bwd Pkt Len Mean',\n",
       "       'Bwd Pkt Len Std', 'Flow Byts/s', 'Flow Pkts/s', 'Flow IAT Mean',\n",
       "       'Flow IAT Std', 'Flow IAT Max', 'Flow IAT Min', 'Fwd IAT Tot',\n",
       "       'Fwd IAT Mean', 'Fwd IAT Std', 'Fwd IAT Max', 'Fwd IAT Min',\n",
       "       'Bwd IAT Tot', 'Bwd IAT Mean', 'Bwd IAT Std', 'Bwd IAT Max',\n",
       "       'Bwd IAT Min', 'Fwd PSH Flags', 'Bwd PSH Flags', 'Fwd URG Flags',\n",
       "       'Bwd URG Flags', 'Fwd Header Len', 'Bwd Header Len', 'Fwd Pkts/s',\n",
       "       'Bwd Pkts/s', 'Pkt Len Min', 'Pkt Len Max', 'Pkt Len Mean',\n",
       "       'Pkt Len Std', 'Pkt Len Var', 'FIN Flag Cnt', 'SYN Flag Cnt',\n",
       "       'RST Flag Cnt', 'PSH Flag Cnt', 'ACK Flag Cnt', 'URG Flag Cnt',\n",
       "       'CWE Flag Count', 'ECE Flag Cnt', 'Down/Up Ratio', 'Pkt Size Avg',\n",
       "       'Fwd Seg Size Avg', 'Bwd Seg Size Avg', 'Fwd Byts/b Avg',\n",
       "       'Fwd Pkts/b Avg', 'Fwd Blk Rate Avg', 'Bwd Byts/b Avg',\n",
       "       'Bwd Pkts/b Avg', 'Bwd Blk Rate Avg', 'Subflow Fwd Pkts',\n",
       "       'Subflow Fwd Byts', 'Subflow Bwd Pkts', 'Subflow Bwd Byts',\n",
       "       'Init Fwd Win Byts', 'Init Bwd Win Byts', 'Fwd Act Data Pkts',\n",
       "       'Fwd Seg Size Min', 'Active Mean', 'Active Std', 'Active Max',\n",
       "       'Active Min', 'Idle Mean', 'Idle Std', 'Idle Max', 'Idle Min', 'Label'],\n",
       "      dtype='object')"
      ]
     },
     "execution_count": 14,
     "metadata": {},
     "output_type": "execute_result"
    }
   ],
   "source": [
    "# check the columns in data\n",
    "df.columns"
   ]
  },
  {
   "cell_type": "code",
   "execution_count": 15,
   "metadata": {
    "colab": {
     "base_uri": "https://localhost:8080/"
    },
    "id": "wRGotNcKuggK",
    "outputId": "1455c69b-5ec0-4b74-8f5f-8b79e1c4a156"
   },
   "outputs": [
    {
     "name": "stdout",
     "output_type": "stream",
     "text": [
      "Total columns in our data: 80\n"
     ]
    }
   ],
   "source": [
    "# check the number of columns\n",
    "print('Total columns in our data: %s' % str(len(df.columns)))"
   ]
  },
  {
   "cell_type": "code",
   "execution_count": 16,
   "metadata": {
    "colab": {
     "base_uri": "https://localhost:8080/"
    },
    "id": "YTLc_4gVuiur",
    "outputId": "4b544e90-13c8-4165-a3d4-3d916219e3d6"
   },
   "outputs": [
    {
     "name": "stdout",
     "output_type": "stream",
     "text": [
      "<class 'pandas.core.frame.DataFrame'>\n",
      "RangeIndex: 6291450 entries, 0 to 6291449\n",
      "Data columns (total 80 columns):\n",
      " #   Column             Dtype  \n",
      "---  ------             -----  \n",
      " 0   Dst Port           int64  \n",
      " 1   Protocol           int64  \n",
      " 2   Timestamp          object \n",
      " 3   Flow Duration      int64  \n",
      " 4   Tot Fwd Pkts       int64  \n",
      " 5   Tot Bwd Pkts       int64  \n",
      " 6   TotLen Fwd Pkts    int64  \n",
      " 7   TotLen Bwd Pkts    float64\n",
      " 8   Fwd Pkt Len Max    int64  \n",
      " 9   Fwd Pkt Len Min    int64  \n",
      " 10  Fwd Pkt Len Mean   float64\n",
      " 11  Fwd Pkt Len Std    float64\n",
      " 12  Bwd Pkt Len Max    int64  \n",
      " 13  Bwd Pkt Len Min    int64  \n",
      " 14  Bwd Pkt Len Mean   float64\n",
      " 15  Bwd Pkt Len Std    float64\n",
      " 16  Flow Byts/s        float64\n",
      " 17  Flow Pkts/s        float64\n",
      " 18  Flow IAT Mean      float64\n",
      " 19  Flow IAT Std       float64\n",
      " 20  Flow IAT Max       float64\n",
      " 21  Flow IAT Min       float64\n",
      " 22  Fwd IAT Tot        float64\n",
      " 23  Fwd IAT Mean       float64\n",
      " 24  Fwd IAT Std        float64\n",
      " 25  Fwd IAT Max        float64\n",
      " 26  Fwd IAT Min        float64\n",
      " 27  Bwd IAT Tot        float64\n",
      " 28  Bwd IAT Mean       float64\n",
      " 29  Bwd IAT Std        float64\n",
      " 30  Bwd IAT Max        float64\n",
      " 31  Bwd IAT Min        float64\n",
      " 32  Fwd PSH Flags      int64  \n",
      " 33  Bwd PSH Flags      int64  \n",
      " 34  Fwd URG Flags      int64  \n",
      " 35  Bwd URG Flags      int64  \n",
      " 36  Fwd Header Len     int64  \n",
      " 37  Bwd Header Len     int64  \n",
      " 38  Fwd Pkts/s         float64\n",
      " 39  Bwd Pkts/s         float64\n",
      " 40  Pkt Len Min        int64  \n",
      " 41  Pkt Len Max        int64  \n",
      " 42  Pkt Len Mean       float64\n",
      " 43  Pkt Len Std        float64\n",
      " 44  Pkt Len Var        float64\n",
      " 45  FIN Flag Cnt       int64  \n",
      " 46  SYN Flag Cnt       int64  \n",
      " 47  RST Flag Cnt       int64  \n",
      " 48  PSH Flag Cnt       int64  \n",
      " 49  ACK Flag Cnt       int64  \n",
      " 50  URG Flag Cnt       int64  \n",
      " 51  CWE Flag Count     int64  \n",
      " 52  ECE Flag Cnt       int64  \n",
      " 53  Down/Up Ratio      int64  \n",
      " 54  Pkt Size Avg       float64\n",
      " 55  Fwd Seg Size Avg   float64\n",
      " 56  Bwd Seg Size Avg   float64\n",
      " 57  Fwd Byts/b Avg     int64  \n",
      " 58  Fwd Pkts/b Avg     int64  \n",
      " 59  Fwd Blk Rate Avg   int64  \n",
      " 60  Bwd Byts/b Avg     int64  \n",
      " 61  Bwd Pkts/b Avg     int64  \n",
      " 62  Bwd Blk Rate Avg   int64  \n",
      " 63  Subflow Fwd Pkts   int64  \n",
      " 64  Subflow Fwd Byts   int64  \n",
      " 65  Subflow Bwd Pkts   int64  \n",
      " 66  Subflow Bwd Byts   int64  \n",
      " 67  Init Fwd Win Byts  int64  \n",
      " 68  Init Bwd Win Byts  int64  \n",
      " 69  Fwd Act Data Pkts  int64  \n",
      " 70  Fwd Seg Size Min   int64  \n",
      " 71  Active Mean        float64\n",
      " 72  Active Std         float64\n",
      " 73  Active Max         float64\n",
      " 74  Active Min         float64\n",
      " 75  Idle Mean          float64\n",
      " 76  Idle Std           float64\n",
      " 77  Idle Max           float64\n",
      " 78  Idle Min           float64\n",
      " 79  Label              object \n",
      "dtypes: float64(37), int64(41), object(2)\n",
      "memory usage: 3.7+ GB\n"
     ]
    }
   ],
   "source": [
    "df.info()"
   ]
  },
  {
   "cell_type": "code",
   "execution_count": 17,
   "metadata": {},
   "outputs": [],
   "source": [
    "df = df[df['Label'] != 'SQL Injection']"
   ]
  },
  {
   "cell_type": "code",
   "execution_count": 18,
   "metadata": {},
   "outputs": [],
   "source": [
    "df = df[df['Label'] != 'Brute Force -Web']\n",
    "df = df[df['Label'] != 'Brute Force -XSS']\n",
    "df = df[df['Label'] != 'DDOS attack-LOIC-UDP']"
   ]
  },
  {
   "cell_type": "markdown",
   "metadata": {
    "id": "NhBBTW5Au9kK"
   },
   "source": [
    "The following information tells us that:\n",
    "\n",
    "1. We have a huge amount of data, containing 1 million+ entries (samples)\n",
    "2. There are a total of 80 columns.\n",
    "3. There are missing values in our data, which need to be filled or dropped for proper modelling"
   ]
  },
  {
   "cell_type": "code",
   "execution_count": 19,
   "metadata": {
    "colab": {
     "base_uri": "https://localhost:8080/"
    },
    "id": "AXGlZqP3vFK2",
    "outputId": "1b81794d-6b99-4b56-aa5c-0a27da4c4bae"
   },
   "outputs": [
    {
     "data": {
      "text/plain": [
       "Benign                   4883142\n",
       "DDOS attack-HOIC          686012\n",
       "Bot                       286191\n",
       "FTP-BruteForce            193360\n",
       "SSH-Bruteforce            187589\n",
       "DoS attacks-GoldenEye      41508\n",
       "DoS attacks-Slowloris      10990\n",
       "Name: Label, dtype: int64"
      ]
     },
     "execution_count": 19,
     "metadata": {},
     "output_type": "execute_result"
    }
   ],
   "source": [
    "# check the number of values for labels\n",
    "df['Label'].value_counts()"
   ]
  },
  {
   "cell_type": "markdown",
   "metadata": {
    "id": "VYPOao4rvPfM"
   },
   "source": [
    "# Data Visualizations"
   ]
  },
  {
   "cell_type": "markdown",
   "metadata": {
    "id": "cGhiSU1Ns4Lh"
   },
   "source": [
    "Since Data Visualization gives us insights from our data,which we can use to extract faetures and learn trends in the data.\n",
    "The visuals include bar plots, distribution plots, scatter plots, etc."
   ]
  },
  {
   "cell_type": "code",
   "execution_count": 20,
   "metadata": {
    "id": "la9eB0t2tiLx"
   },
   "outputs": [],
   "source": [
    "import matplotlib.pyplot as plt\n",
    "import seaborn as sns\n",
    "import plotly.express as px\n",
    "import plotly.offline as pyo"
   ]
  },
  {
   "cell_type": "code",
   "execution_count": 21,
   "metadata": {
    "colab": {
     "base_uri": "https://localhost:8080/",
     "height": 338
    },
    "id": "YaY49NgvvSKB",
    "outputId": "22ae3da5-5709-47c8-ab08-3632e69e0ae2"
   },
   "outputs": [
    {
     "data": {
      "image/png": "[encoded data removed]",
      "text/plain": [
       "<Figure size 2160x432 with 1 Axes>"
      ]
     },
     "metadata": {},
     "output_type": "display_data"
    }
   ],
   "source": [
    "# make a plot number of labels\n",
    "sns.set(rc={'figure.figsize':(30, 6)})\n",
    "plt.xlabel('Attack Type')\n",
    "sns.set_theme()\n",
    "ax = sns.countplot(x='Label', data=df)\n",
    "ax.set(xlabel='Attack Type', ylabel='Number of Attacks')\n",
    "plt.show()"
   ]
  },
  {
   "cell_type": "code",
   "execution_count": 22,
   "metadata": {
    "colab": {
     "base_uri": "https://localhost:8080/",
     "height": 605
    },
    "id": "W0od6PoxuLAQ",
    "outputId": "170c0f8b-c75b-44cc-dc77-b2d71b306b43"
   },
   "outputs": [
    {
     "name": "stdout",
     "output_type": "stream",
     "text": [
      "CPU times: total: 3.59 s\n",
      "Wall time: 3.59 s\n"
     ]
    },
    {
     "data": {
      "text/plain": [
       "<AxesSubplot:xlabel='Bwd Pkts/s', ylabel='Fwd Seg Size Min'>"
      ]
     },
     "execution_count": 22,
     "metadata": {},
     "output_type": "execute_result"
    },
    {
     "data": {
      "image/png": "[encoded data removed]",
      "text/plain": [
       "<Figure size 864x432 with 1 Axes>"
      ]
     },
     "metadata": {},
     "output_type": "display_data"
    }
   ],
   "source": [
    "%%time\n",
    "sns.set(rc={'figure.figsize':(12, 6)})\n",
    "sns.scatterplot(x=df['Bwd Pkts/s'][:50000], y=df['Fwd Seg Size Min'][:50000], \n",
    "                hue='Label', data=df)"
   ]
  },
  {
   "cell_type": "code",
   "execution_count": 23,
   "metadata": {
    "colab": {
     "base_uri": "https://localhost:8080/"
    },
    "id": "Fk9rD3k4uibW",
    "outputId": "31e2aca2-05d4-447c-b7c9-7dfdef6e0631"
   },
   "outputs": [
    {
     "data": {
      "text/plain": [
       "dtype('O')"
      ]
     },
     "execution_count": 23,
     "metadata": {},
     "output_type": "execute_result"
    }
   ],
   "source": [
    "# check the dtype of timestamp column\n",
    "(df['Timestamp'].dtype)"
   ]
  },
  {
   "cell_type": "markdown",
   "metadata": {
    "id": "5yoQUOZCu6iv"
   },
   "source": [
    "# Data Preprocessing\n",
    "Data preprocessing plays an important part in the process of data science, since data may not be fully clean and can contain missing or null values. In this step, we are undergoing some preprocessing steps that will help us if there is any null or missing value in our data."
   ]
  },
  {
   "cell_type": "code",
   "execution_count": 24,
   "metadata": {
    "colab": {
     "base_uri": "https://localhost:8080/"
    },
    "id": "uqQXhYoeu-CJ",
    "outputId": "4369f527-bba1-4dd6-c8b2-b80f25916965"
   },
   "outputs": [
    {
     "data": {
      "text/plain": [
       "array([    0,     0,     0,     0,     0,     0,     0,     0,     0,\n",
       "           0,     0,     0,     0,     0,     0,     0, 17079,     0,\n",
       "           0,     0,     0,     0,     0,     0,     0,     0,     0,\n",
       "           0,     0,     0,     0,     0,     0,     0,     0,     0,\n",
       "           0,     0,     0,     0,     0,     0,     0,     0,     0,\n",
       "           0,     0,     0,     0,     0,     0,     0,     0,     0,\n",
       "           0,     0,     0,     0,     0,     0,     0,     0,     0,\n",
       "           0,     0,     0,     0,     0,     0,     0,     0,     0,\n",
       "           0,     0,     0,     0,     0,     0,     0,     0],\n",
       "      dtype=int64)"
      ]
     },
     "execution_count": 24,
     "metadata": {},
     "output_type": "execute_result"
    }
   ],
   "source": [
    "# check for some null or missing values in our dataset\n",
    "df.isna().sum().to_numpy()"
   ]
  },
  {
   "cell_type": "markdown",
   "metadata": {
    "id": "ITFjqqNzvG5n"
   },
   "source": [
    "All features in the data have no null or missing values, except one feature that contains 2277 missing values. We need to remove this column from our data, so that our data may get cleaned."
   ]
  },
  {
   "cell_type": "code",
   "execution_count": 25,
   "metadata": {
    "colab": {
     "base_uri": "https://localhost:8080/"
    },
    "id": "TEIQ_X-JvFlV",
    "outputId": "8d8ffba0-2b87-4652-8c8f-a78795208776"
   },
   "outputs": [
    {
     "data": {
      "text/plain": [
       "array([0, 0, 0, 0, 0, 0, 0, 0, 0, 0, 0, 0, 0, 0, 0, 0, 0, 0, 0, 0, 0, 0,\n",
       "       0, 0, 0, 0, 0, 0, 0, 0, 0, 0, 0, 0, 0, 0, 0, 0, 0, 0, 0, 0, 0, 0,\n",
       "       0, 0, 0, 0, 0, 0, 0, 0, 0, 0, 0, 0, 0, 0, 0, 0, 0, 0, 0, 0, 0, 0,\n",
       "       0, 0, 0, 0, 0, 0, 0, 0, 0, 0, 0, 0, 0, 0], dtype=int64)"
      ]
     },
     "execution_count": 25,
     "metadata": {},
     "output_type": "execute_result"
    }
   ],
   "source": [
    "# drop null or missing columns\n",
    "cleaned_data = df.dropna()\n",
    "cleaned_data.isna().sum().to_numpy()"
   ]
  },
  {
   "cell_type": "markdown",
   "metadata": {
    "id": "VXAGUCmPvNfw"
   },
   "source": [
    "After removing the missing valued column in our data, we have now no feature that contains any missing or null value. Data is cleaned now."
   ]
  },
  {
   "cell_type": "markdown",
   "metadata": {
    "id": "ArLJ3hVEvPmO"
   },
   "source": [
    "**Label Encoding**\n",
    "\n",
    "The Label feature in the data contains 3 labels as Benign, BruteForceFTP and BruteForceSSH. All these are in string format. For our neural network, we need to convert them into numbers so that our NN may understand their representations."
   ]
  },
  {
   "cell_type": "code",
   "execution_count": 26,
   "metadata": {
    "colab": {
     "base_uri": "https://localhost:8080/"
    },
    "id": "SEmJ1bZdvOg8",
    "outputId": "584a48d0-2b70-409d-c1c0-d6b10ecfb6c8"
   },
   "outputs": [
    {
     "name": "stderr",
     "output_type": "stream",
     "text": [
      "C:\\Users\\win10\\AppData\\Local\\Temp\\ipykernel_20892\\942692710.py:4: SettingWithCopyWarning:\n",
      "\n",
      "\n",
      "A value is trying to be set on a copy of a slice from a DataFrame.\n",
      "Try using .loc[row_indexer,col_indexer] = value instead\n",
      "\n",
      "See the caveats in the documentation: https://pandas.pydata.org/pandas-docs/stable/user_guide/indexing.html#returning-a-view-versus-a-copy\n",
      "\n"
     ]
    },
    {
     "data": {
      "text/plain": [
       "array([0, 1, 3, 4, 5, 6, 2])"
      ]
     },
     "execution_count": 26,
     "metadata": {},
     "output_type": "execute_result"
    }
   ],
   "source": [
    "from sklearn.preprocessing import LabelEncoder\n",
    "# encode the column labels\n",
    "label_encoder = LabelEncoder()\n",
    "cleaned_data['Label']= label_encoder.fit_transform(cleaned_data['Label'])\n",
    "cleaned_data['Label'].unique()"
   ]
  },
  {
   "cell_type": "code",
   "execution_count": 23,
   "metadata": {},
   "outputs": [
    {
     "ename": "SyntaxError",
     "evalue": "invalid syntax (3394786900.py, line 3)",
     "output_type": "error",
     "traceback": [
      "\u001b[1;36m  Cell \u001b[1;32mIn[23], line 3\u001b[1;36m\u001b[0m\n\u001b[1;33m    Brute Force -Web\u001b[0m\n\u001b[1;37m          ^\u001b[0m\n\u001b[1;31mSyntaxError\u001b[0m\u001b[1;31m:\u001b[0m invalid syntax\n"
     ]
    }
   ],
   "source": [
    "/*  Benign  \n",
    "Bot     \n",
    "Brute Force -Web     xx  \n",
    "Brute Force -XSS     xx\n",
    "DDOS attack-HOIC  \n",
    "DDOS attack-LOIC-UDP xx\n",
    "DoS attacks-GoldenEye  \n",
    "DoS attacks-Slowloris  \n",
    "FTP-BruteForce                     \n",
    "SQL Injection  xx  \n",
    "SSH-Bruteforce   */"
   ]
  },
  {
   "cell_type": "code",
   "execution_count": 27,
   "metadata": {
    "colab": {
     "base_uri": "https://localhost:8080/"
    },
    "id": "N7EuhjS2v_SA",
    "outputId": "d294111c-67dc-4a17-82c9-457250f78ea5"
   },
   "outputs": [
    {
     "data": {
      "text/plain": [
       "0    4866069\n",
       "2     686012\n",
       "1     286191\n",
       "5     193354\n",
       "6     187589\n",
       "3      41508\n",
       "4      10990\n",
       "Name: Label, dtype: int64"
      ]
     },
     "execution_count": 27,
     "metadata": {},
     "output_type": "execute_result"
    }
   ],
   "source": [
    "# check for encoded labels\n",
    "cleaned_data['Label'].value_counts()"
   ]
  },
  {
   "cell_type": "markdown",
   "metadata": {
    "id": "kaHGzawLwHlw"
   },
   "source": [
    "# Shaping the data for CNN\n",
    "For applying a convolutional neural network on our data, we will have to follow following steps:\n",
    "\n",
    "1.  Seperate the data of each of the labels\n",
    "2.  Create a numerical matrix representation of labels\n",
    "3. Apply resampling on data so that can make the distribution equal for all labels\n",
    "4. Create X (predictor) and Y (target) variables\n",
    "5. Split the data into train and test sets\n",
    "6. Make data multi-dimensional for CNN\n",
    "7. Apply CNN on data"
   ]
  },
  {
   "cell_type": "code",
   "execution_count": 28,
   "metadata": {},
   "outputs": [],
   "source": [
    "# make 3 seperate datasets for 3 feature labels\n",
    "data_1 = cleaned_data[cleaned_data['Label'] == 0]\n",
    "data_2 = cleaned_data[cleaned_data['Label'] == 1]\n",
    "data_3 = cleaned_data[cleaned_data['Label'] == 2]\n",
    "data_4 = cleaned_data[cleaned_data['Label'] == 3]\n",
    "data_5 = cleaned_data[cleaned_data['Label'] == 4]\n",
    "data_6 = cleaned_data[cleaned_data['Label'] == 5]\n",
    "data_7 = cleaned_data[cleaned_data['Label'] == 6]"
   ]
  },
  {
   "cell_type": "code",
   "execution_count": 29,
   "metadata": {
    "id": "Vrp7rox6wXOy"
   },
   "outputs": [],
   "source": [
    "# make benign feature\n",
    "y_1 = np.zeros(data_1.shape[0])\n",
    "y_benign = pd.DataFrame(y_1)\n",
    "\n",
    "# make bot feature\n",
    "y_2 = np.ones(data_2.shape[0])\n",
    "y_bot = pd.DataFrame(y_2)\n",
    "\n",
    "# DDoS attack HIOC\n",
    "y_3 = np.full(data_3.shape[0],2)\n",
    "y_hioc = pd.DataFrame(y_3)\n",
    "\n",
    "# DOS attack Golden Eye\n",
    "y_4 = np.full(data_4.shape[0],3)\n",
    "y_dosGold = pd.DataFrame(y_4)\n",
    "\n",
    "# Dos attack sloloris\n",
    "y_5 = np.full(data_5.shape[0],4)\n",
    "y_slow = pd.DataFrame(y_5)\n",
    "\n",
    "# FTP Bruteforce\n",
    "y_6 = np.full(data_6.shape[0],5)\n",
    "y_ftpBrut = pd.DataFrame(y_6)\n",
    "\n",
    "\n",
    "# SSh Bruteforce\n",
    "y_7 = np.full(data_7.shape[0],6)\n",
    "y_sshBrut = pd.DataFrame(y_7)\n",
    "\n",
    "# merging the original dataframe\n",
    "X = pd.concat([data_1, data_2, data_3,data_4,data_5,data_6,data_7], sort=True)\n",
    "y = pd.concat([y_benign,y_bot,\n",
    "y_hioc,\n",
    "y_dosGold,\n",
    "y_slow,\n",
    "y_ftpBrut,\n",
    "y_sshBrut], sort=True)"
   ]
  },
  {
   "cell_type": "code",
   "execution_count": 30,
   "metadata": {
    "id": "vM16YKR_wk_H"
   },
   "outputs": [
    {
     "data": {
      "text/plain": [
       "(array([0., 0., 0., ..., 0., 0., 0.]),\n",
       " array([1., 1., 1., ..., 1., 1., 1.]),\n",
       " array([2, 2, 2, ..., 2, 2, 2]),\n",
       " array([3, 3, 3, ..., 3, 3, 3]),\n",
       " array([4, 4, 4, ..., 4, 4, 4]),\n",
       " array([5, 5, 5, ..., 5, 5, 5]),\n",
       " array([6, 6, 6, ..., 6, 6, 6]))"
      ]
     },
     "execution_count": 30,
     "metadata": {},
     "output_type": "execute_result"
    }
   ],
   "source": [
    "y_1, y_2, y_3,y_4,y_5,y_6,y_7"
   ]
  },
  {
   "cell_type": "code",
   "execution_count": 31,
   "metadata": {
    "id": "HZKGS8MawlBT"
   },
   "outputs": [
    {
     "name": "stdout",
     "output_type": "stream",
     "text": [
      "(6271713, 80)\n",
      "(6271713, 1)\n"
     ]
    }
   ],
   "source": [
    "print(X.shape)\n",
    "print(y.shape)"
   ]
  },
  {
   "cell_type": "code",
   "execution_count": 32,
   "metadata": {
    "id": "45jC4KxMwlDN"
   },
   "outputs": [
    {
     "data": {
      "text/plain": [
       "array([0, 0, 0, 0, 0, 0, 0, 0, 0, 0, 0, 0, 0, 0, 0, 0, 0, 0, 0, 0, 0, 0,\n",
       "       0, 0, 0, 0, 0, 0, 0, 0, 0, 0, 0, 0, 0, 0, 0, 0, 0, 0, 0, 0, 0, 0,\n",
       "       0, 0, 0, 0, 0, 0, 0, 0, 0, 0, 0, 0, 0, 0, 0, 0, 0, 0, 0, 0, 0, 0,\n",
       "       0, 0, 0, 0, 0, 0, 0, 0, 0, 0, 0, 0, 0, 0], dtype=int64)"
      ]
     },
     "execution_count": 32,
     "metadata": {},
     "output_type": "execute_result"
    }
   ],
   "source": [
    "# checking if there are some null values in data\n",
    "X.isnull().sum().to_numpy()\n"
   ]
  },
  {
   "cell_type": "markdown",
   "metadata": {
    "id": "5VpiMSZnwuSL"
   },
   "source": [
    "The output of above cell shows that there are no null values in our data, and the data can now be used for model fitting. We have two types of datasets, normal and abnormal, and they'll be used for model fitting."
   ]
  },
  {
   "cell_type": "markdown",
   "metadata": {
    "id": "mCW8CrxMepv9"
   },
   "source": [
    "# Data Argumentation\n",
    "To avoid biasing in data, we need to use data argumentation on it so that we can remove bias from data and make equal distributions."
   ]
  },
  {
   "cell_type": "code",
   "execution_count": 33,
   "metadata": {
    "id": "aIeHM3rjfP_Y"
   },
   "outputs": [],
   "source": [
    "from sklearn.model_selection import train_test_split\n",
    "from sklearn.preprocessing import MinMaxScaler\n",
    "from sklearn.ensemble import RandomForestClassifier\n",
    "from sklearn.preprocessing import LabelEncoder\n",
    "from sklearn.neural_network import MLPClassifier\n",
    "import keras\n",
    "from keras.layers import Conv2D, Conv1D, MaxPooling2D, MaxPooling1D, Flatten, BatchNormalization, Dense\n",
    "from keras.utils.np_utils import to_categorical\n",
    "from keras.models import Sequential\n",
    "from keras.callbacks import CSVLogger, ModelCheckpoint"
   ]
  },
  {
   "cell_type": "code",
   "execution_count": 34,
   "metadata": {
    "id": "CB-dTquVwlFd"
   },
   "outputs": [],
   "source": [
    "from sklearn.utils import resample\n",
    "\n",
    "data_1_resample = resample(data_1, n_samples=30000, \n",
    "                           random_state=123, replace=True)\n",
    "data_2_resample = resample(data_2, n_samples=30000, \n",
    "                           random_state=123, replace=True)\n",
    "data_3_resample = resample(data_3, n_samples=30000, \n",
    "                           random_state=123, replace=True)\n",
    "data_4_resample = resample(data_4, n_samples=30000, \n",
    "                           random_state=123, replace=True)\n",
    "data_5_resample = resample(data_5, n_samples=30000, \n",
    "                           random_state=123, replace=True)\n",
    "data_6_resample = resample(data_6, n_samples=30000, \n",
    "                           random_state=123, replace=True)\n",
    "data_7_resample = resample(data_7, n_samples=30000, \n",
    "                           random_state=123, replace=True)"
   ]
  },
  {
   "cell_type": "code",
   "execution_count": 35,
   "metadata": {
    "id": "y0lqpj6qe4LL"
   },
   "outputs": [
    {
     "data": {
      "text/html": [
       "<div>\n",
       "<style scoped>\n",
       "    .dataframe tbody tr th:only-of-type {\n",
       "        vertical-align: middle;\n",
       "    }\n",
       "\n",
       "    .dataframe tbody tr th {\n",
       "        vertical-align: top;\n",
       "    }\n",
       "\n",
       "    .dataframe thead th {\n",
       "        text-align: right;\n",
       "    }\n",
       "</style>\n",
       "<table border=\"1\" class=\"dataframe\">\n",
       "  <thead>\n",
       "    <tr style=\"text-align: right;\">\n",
       "      <th></th>\n",
       "      <th>Dst Port</th>\n",
       "      <th>Protocol</th>\n",
       "      <th>Timestamp</th>\n",
       "      <th>Flow Duration</th>\n",
       "      <th>Tot Fwd Pkts</th>\n",
       "      <th>Tot Bwd Pkts</th>\n",
       "      <th>TotLen Fwd Pkts</th>\n",
       "      <th>TotLen Bwd Pkts</th>\n",
       "      <th>Fwd Pkt Len Max</th>\n",
       "      <th>Fwd Pkt Len Min</th>\n",
       "      <th>...</th>\n",
       "      <th>Fwd Seg Size Min</th>\n",
       "      <th>Active Mean</th>\n",
       "      <th>Active Std</th>\n",
       "      <th>Active Max</th>\n",
       "      <th>Active Min</th>\n",
       "      <th>Idle Mean</th>\n",
       "      <th>Idle Std</th>\n",
       "      <th>Idle Max</th>\n",
       "      <th>Idle Min</th>\n",
       "      <th>Label</th>\n",
       "    </tr>\n",
       "  </thead>\n",
       "  <tbody>\n",
       "    <tr>\n",
       "      <th>565071</th>\n",
       "      <td>53</td>\n",
       "      <td>17</td>\n",
       "      <td>02/03/2018 11:28:20</td>\n",
       "      <td>322</td>\n",
       "      <td>1</td>\n",
       "      <td>1</td>\n",
       "      <td>65</td>\n",
       "      <td>193.0</td>\n",
       "      <td>65</td>\n",
       "      <td>65</td>\n",
       "      <td>...</td>\n",
       "      <td>8</td>\n",
       "      <td>0.0</td>\n",
       "      <td>0.0</td>\n",
       "      <td>0.0</td>\n",
       "      <td>0.0</td>\n",
       "      <td>0.0</td>\n",
       "      <td>0.0</td>\n",
       "      <td>0.0</td>\n",
       "      <td>0.0</td>\n",
       "      <td>0</td>\n",
       "    </tr>\n",
       "    <tr>\n",
       "      <th>4958924</th>\n",
       "      <td>80</td>\n",
       "      <td>6</td>\n",
       "      <td>14/02/2018 09:00:46</td>\n",
       "      <td>86</td>\n",
       "      <td>2</td>\n",
       "      <td>0</td>\n",
       "      <td>0</td>\n",
       "      <td>0.0</td>\n",
       "      <td>0</td>\n",
       "      <td>0</td>\n",
       "      <td>...</td>\n",
       "      <td>20</td>\n",
       "      <td>0.0</td>\n",
       "      <td>0.0</td>\n",
       "      <td>0.0</td>\n",
       "      <td>0.0</td>\n",
       "      <td>0.0</td>\n",
       "      <td>0.0</td>\n",
       "      <td>0.0</td>\n",
       "      <td>0.0</td>\n",
       "      <td>0</td>\n",
       "    </tr>\n",
       "  </tbody>\n",
       "</table>\n",
       "<p>2 rows × 80 columns</p>\n",
       "</div>"
      ],
      "text/plain": [
       "         Dst Port  Protocol            Timestamp  Flow Duration  Tot Fwd Pkts  \\\n",
       "565071         53        17  02/03/2018 11:28:20            322             1   \n",
       "4958924        80         6  14/02/2018 09:00:46             86             2   \n",
       "\n",
       "         Tot Bwd Pkts  TotLen Fwd Pkts  TotLen Bwd Pkts  Fwd Pkt Len Max  \\\n",
       "565071              1               65            193.0               65   \n",
       "4958924             0                0              0.0                0   \n",
       "\n",
       "         Fwd Pkt Len Min  ...  Fwd Seg Size Min  Active Mean  Active Std  \\\n",
       "565071                65  ...                 8          0.0         0.0   \n",
       "4958924                0  ...                20          0.0         0.0   \n",
       "\n",
       "         Active Max  Active Min  Idle Mean  Idle Std  Idle Max  Idle Min  \\\n",
       "565071          0.0         0.0        0.0       0.0       0.0       0.0   \n",
       "4958924         0.0         0.0        0.0       0.0       0.0       0.0   \n",
       "\n",
       "         Label  \n",
       "565071       0  \n",
       "4958924      0  \n",
       "\n",
       "[2 rows x 80 columns]"
      ]
     },
     "execution_count": 35,
     "metadata": {},
     "output_type": "execute_result"
    }
   ],
   "source": [
    "train_dataset = pd.concat([data_1_resample, data_2_resample, data_3_resample, data_4_resample,data_5_resample,\n",
    "data_6_resample,\n",
    "data_7_resample\n",
    "])\n",
    "train_dataset.head(2)"
   ]
  },
  {
   "cell_type": "code",
   "execution_count": 36,
   "metadata": {
    "id": "ied_kBkJe7Kl"
   },
   "outputs": [
    {
     "data": {
      "text/plain": [
       "<matplotlib.patches.Circle at 0x1f18122b9d0>"
      ]
     },
     "execution_count": 36,
     "metadata": {},
     "output_type": "execute_result"
    },
    {
     "data": {
      "image/png": "[encoded data removed]",
      "text/plain": [
       "<Figure size 720x576 with 1 Axes>"
      ]
     },
     "metadata": {},
     "output_type": "display_data"
    }
   ],
   "source": [
    "# viewing the distribution of intrusion attacks in our dataset \n",
    "plt.figure(figsize=(10, 8))\n",
    "circle = plt.Circle((0, 0), 0.7, color='white')\n",
    "plt.title('Intrusion Attack Type Distribution')\n",
    "plt.pie(train_dataset['Label'].value_counts(), labels=['Benign' ,\n",
    "'Bot'  ,\n",
    "'DDOS attack-HOIC'  ,\n",
    "'DoS attacks-GoldenEye' ,\n",
    "'DoS attacks-Slowloris' ,\n",
    "'FTP-BruteForce',                     \n",
    "'SSH-Bruteforce'], colors=['blue', 'magenta', 'cyan','red','blue', 'magenta', 'cyan'])\n",
    "p = plt.gcf()\n",
    "p.gca().add_artist(circle)"
   ]
  },
  {
   "cell_type": "markdown",
   "metadata": {
    "id": "ZYNeCPy0fdv1"
   },
   "source": [
    "# Making X & Y Variables (CNN)"
   ]
  },
  {
   "cell_type": "code",
   "execution_count": 37,
   "metadata": {
    "id": "PO-wsTVGffgU"
   },
   "outputs": [],
   "source": [
    "test_dataset = train_dataset.sample(frac=0.3)\n",
    "\n",
    "# get the indices of the rows in the test dataset\n",
    "test_indices = test_dataset.index\n",
    "\n",
    "# drop the rows corresponding to the test dataset from the train dataset\n",
    "train_dataset = train_dataset.drop(test_indices)\n",
    "\n",
    "target_train = train_dataset['Label']\n",
    "target_test = test_dataset['Label']\n",
    "target_train.unique(), target_test.unique()\n",
    "\n",
    "y_train = to_categorical(target_train, num_classes=7)\n",
    "y_test = to_categorical(target_test, num_classes=7)"
   ]
  },
  {
   "cell_type": "markdown",
   "metadata": {
    "id": "3EF5eVPcfm13"
   },
   "source": [
    "# Data Splicing\n",
    "This stage involves the data split into train & test sets. The training data will be used for training our model, and the testing data will be used to check the performance of model on unseen dataset. We're using a split of 80-20, i.e., 80% data to be used for training & 20% to be used for testing purpose."
   ]
  },
  {
   "cell_type": "code",
   "execution_count": 38,
   "metadata": {
    "id": "cO2OHzmbftFF"
   },
   "outputs": [
    {
     "data": {
      "text/plain": [
       "array([[8.08000e+03, 5.62000e+02, 2.00000e+00, ..., 0.00000e+00,\n",
       "        0.00000e+00, 0.00000e+00],\n",
       "       [2.10000e+01, 2.00000e+00, 1.00000e+00, ..., 0.00000e+00,\n",
       "        0.00000e+00, 0.00000e+00],\n",
       "       [2.10000e+01, 2.00000e+00, 1.00000e+00, ..., 0.00000e+00,\n",
       "        0.00000e+00, 0.00000e+00],\n",
       "       ...,\n",
       "       [2.20000e+01, 7.00000e+00, 1.00000e+00, ..., 0.00000e+00,\n",
       "        0.00000e+00, 0.00000e+00],\n",
       "       [8.08000e+03, 5.10000e+02, 2.00000e+00, ..., 0.00000e+00,\n",
       "        0.00000e+00, 0.00000e+00],\n",
       "       [5.35500e+03, 4.20074e+05, 2.00000e+00, ..., 0.00000e+00,\n",
       "        0.00000e+00, 0.00000e+00]])"
      ]
     },
     "execution_count": 38,
     "metadata": {},
     "output_type": "execute_result"
    }
   ],
   "source": [
    "train_dataset = train_dataset.drop(columns = [\"Timestamp\", \"Protocol\",\"PSH Flag Cnt\",\"Init Fwd Win Byts\",\"Flow Byts/s\",\"Flow Pkts/s\", \"Label\"], axis=1)\n",
    "test_dataset = test_dataset.drop(columns = [\"Timestamp\", \"Protocol\",\"PSH Flag Cnt\",\"Init Fwd Win Byts\",\"Flow Byts/s\",\"Flow Pkts/s\", \"Label\"], axis=1)\n",
    "\n",
    "\n",
    "# making train & test splits\n",
    "X_train = train_dataset.iloc[:, :-1].values\n",
    "X_test = test_dataset.iloc[:, :-1].values\n",
    "X_test"
   ]
  },
  {
   "cell_type": "code",
   "execution_count": 39,
   "metadata": {
    "id": "L_Nlq6XsfydJ"
   },
   "outputs": [
    {
     "name": "stdout",
     "output_type": "stream",
     "text": [
      "(128491, 72)\n",
      "(63000, 72)\n",
      "(128491, 7)\n",
      "(63000, 7)\n"
     ]
    }
   ],
   "source": [
    "print(X_train.shape)\n",
    "print(X_test.shape)\n",
    "print(y_train.shape)\n",
    "print(y_test.shape)"
   ]
  },
  {
   "cell_type": "code",
   "execution_count": 40,
   "metadata": {
    "id": "uyMJbo6Rfyfq"
   },
   "outputs": [
    {
     "data": {
      "text/plain": [
       "((128491, 72, 1), (63000, 72, 1))"
      ]
     },
     "execution_count": 40,
     "metadata": {},
     "output_type": "execute_result"
    }
   ],
   "source": [
    "# reshape the data for CNN\n",
    "X_train = X_train.reshape(len(X_train), X_train.shape[1], 1)\n",
    "X_test = X_test.reshape(len(X_test), X_test.shape[1], 1)\n",
    "X_train.shape, X_test.shape"
   ]
  },
  {
   "cell_type": "markdown",
   "metadata": {
    "id": "O7XbEMR5NPB8"
   },
   "source": [
    "# **CNN**"
   ]
  },
  {
   "cell_type": "code",
   "execution_count": 41,
   "metadata": {
    "id": "jjBHBktNTAuY"
   },
   "outputs": [],
   "source": [
    "from keras.models import Sequential\n",
    "from keras.layers import LSTM, Dense"
   ]
  },
  {
   "cell_type": "code",
   "execution_count": 45,
   "metadata": {
    "id": "ylpkuTFoS4z6"
   },
   "outputs": [],
   "source": [
    "# making the deep learning function\n",
    "def model():\n",
    "    model = Sequential()\n",
    "    model.add(Conv1D(filters=64, kernel_size=6, activation='relu', \n",
    "                    padding='same', input_shape=(72, 1)))\n",
    "    model.add(BatchNormalization())\n",
    "    \n",
    "    # adding a pooling layer\n",
    "    model.add(MaxPooling1D(pool_size=(3), strides=2, padding='same'))\n",
    "    \n",
    "    model.add(Conv1D(filters=64, kernel_size=6, activation='relu', \n",
    "                    padding='same', input_shape=(72, 1)))\n",
    "    model.add(BatchNormalization())\n",
    "    model.add(MaxPooling1D(pool_size=(3), strides=2, padding='same'))\n",
    "    \n",
    "    model.add(Conv1D(filters=64, kernel_size=6, activation='relu', \n",
    "                    padding='same', input_shape=(72, 1)))\n",
    "    model.add(BatchNormalization())\n",
    "    model.add(MaxPooling1D(pool_size=(3), strides=2, padding='same'))\n",
    "    \n",
    "    model.add(Flatten())\n",
    "    model.add(Dense(64, activation='relu'))\n",
    "    model.add(Dense(64, activation='relu'))\n",
    "    model.add(Dense(7, activation='softmax'))\n",
    "    \n",
    "    model.compile(loss='categorical_crossentropy', optimizer='adam', metrics=['accuracy'])\n",
    "    return model"
   ]
  },
  {
   "cell_type": "code",
   "execution_count": 46,
   "metadata": {
    "id": "kZF9n19BT6s4"
   },
   "outputs": [
    {
     "name": "stdout",
     "output_type": "stream",
     "text": [
      "Model: \"sequential_1\"\n",
      "_________________________________________________________________\n",
      " Layer (type)                Output Shape              Param #   \n",
      "=================================================================\n",
      " conv1d_3 (Conv1D)           (None, 72, 64)            448       \n",
      "                                                                 \n",
      " batch_normalization_3 (Batc  (None, 72, 64)           256       \n",
      " hNormalization)                                                 \n",
      "                                                                 \n",
      " max_pooling1d_3 (MaxPooling  (None, 36, 64)           0         \n",
      " 1D)                                                             \n",
      "                                                                 \n",
      " conv1d_4 (Conv1D)           (None, 36, 64)            24640     \n",
      "                                                                 \n",
      " batch_normalization_4 (Batc  (None, 36, 64)           256       \n",
      " hNormalization)                                                 \n",
      "                                                                 \n",
      " max_pooling1d_4 (MaxPooling  (None, 18, 64)           0         \n",
      " 1D)                                                             \n",
      "                                                                 \n",
      " conv1d_5 (Conv1D)           (None, 18, 64)            24640     \n",
      "                                                                 \n",
      " batch_normalization_5 (Batc  (None, 18, 64)           256       \n",
      " hNormalization)                                                 \n",
      "                                                                 \n",
      " max_pooling1d_5 (MaxPooling  (None, 9, 64)            0         \n",
      " 1D)                                                             \n",
      "                                                                 \n",
      " flatten_1 (Flatten)         (None, 576)               0         \n",
      "                                                                 \n",
      " dense_3 (Dense)             (None, 64)                36928     \n",
      "                                                                 \n",
      " dense_4 (Dense)             (None, 64)                4160      \n",
      "                                                                 \n",
      " dense_5 (Dense)             (None, 7)                 455       \n",
      "                                                                 \n",
      "=================================================================\n",
      "Total params: 92,039\n",
      "Trainable params: 91,655\n",
      "Non-trainable params: 384\n",
      "_________________________________________________________________\n"
     ]
    }
   ],
   "source": [
    "model = model()\n",
    "model.summary()"
   ]
  },
  {
   "cell_type": "code",
   "execution_count": 47,
   "metadata": {
    "id": "ieKt26fYX5yO",
    "scrolled": true
   },
   "outputs": [
    {
     "name": "stdout",
     "output_type": "stream",
     "text": [
      "Epoch 1/30\n",
      "4016/4016 [==============================] - 30s 7ms/step - loss: 0.2238 - accuracy: 0.9144 - val_loss: 0.1210 - val_accuracy: 0.9779\n",
      "Epoch 2/30\n",
      "4016/4016 [==============================] - 26s 7ms/step - loss: 0.1560 - accuracy: 0.9471 - val_loss: 1.1671 - val_accuracy: 0.5978\n",
      "Epoch 3/30\n",
      "4016/4016 [==============================] - 26s 7ms/step - loss: 0.0572 - accuracy: 0.9837 - val_loss: 0.3037 - val_accuracy: 0.8969\n",
      "Epoch 4/30\n",
      "4016/4016 [==============================] - 27s 7ms/step - loss: 0.0390 - accuracy: 0.9896 - val_loss: 1.4576 - val_accuracy: 0.5979\n",
      "Epoch 5/30\n",
      "4016/4016 [==============================] - 27s 7ms/step - loss: 0.1425 - accuracy: 0.9549 - val_loss: 0.6548 - val_accuracy: 0.7970\n",
      "Epoch 6/30\n",
      "4016/4016 [==============================] - 27s 7ms/step - loss: 0.1125 - accuracy: 0.9676 - val_loss: 0.8399 - val_accuracy: 0.6537\n",
      "Epoch 7/30\n",
      "4016/4016 [==============================] - 28s 7ms/step - loss: 0.1028 - accuracy: 0.9703 - val_loss: 0.8980 - val_accuracy: 0.6591\n",
      "Epoch 8/30\n",
      "4016/4016 [==============================] - 28s 7ms/step - loss: 0.0913 - accuracy: 0.9748 - val_loss: 0.6651 - val_accuracy: 0.7161\n",
      "Epoch 9/30\n",
      "4016/4016 [==============================] - 27s 7ms/step - loss: 0.0837 - accuracy: 0.9771 - val_loss: 1.5727 - val_accuracy: 0.6682\n",
      "Epoch 10/30\n",
      "4016/4016 [==============================] - 28s 7ms/step - loss: 0.0810 - accuracy: 0.9773 - val_loss: 0.8815 - val_accuracy: 0.6940\n",
      "Epoch 11/30\n",
      "4016/4016 [==============================] - 28s 7ms/step - loss: 0.0780 - accuracy: 0.9785 - val_loss: 1.1223 - val_accuracy: 0.5160\n",
      "Epoch 12/30\n",
      "4016/4016 [==============================] - 28s 7ms/step - loss: 0.0784 - accuracy: 0.9783 - val_loss: 3.0246 - val_accuracy: 0.6500\n",
      "Epoch 13/30\n",
      "4016/4016 [==============================] - 32s 8ms/step - loss: 0.0743 - accuracy: 0.9791 - val_loss: 0.3464 - val_accuracy: 0.8752\n",
      "Epoch 14/30\n",
      "4016/4016 [==============================] - 32s 8ms/step - loss: 0.0761 - accuracy: 0.9788 - val_loss: 0.9484 - val_accuracy: 0.6620\n",
      "Epoch 15/30\n",
      "4016/4016 [==============================] - 32s 8ms/step - loss: 0.0753 - accuracy: 0.9789 - val_loss: 3.7121 - val_accuracy: 0.4481\n",
      "Epoch 16/30\n",
      "4016/4016 [==============================] - 32s 8ms/step - loss: 0.0889 - accuracy: 0.9762 - val_loss: 1.6294 - val_accuracy: 0.7166\n",
      "Epoch 17/30\n",
      "4016/4016 [==============================] - 32s 8ms/step - loss: 0.0728 - accuracy: 0.9798 - val_loss: 3.2744 - val_accuracy: 0.5807\n",
      "Epoch 18/30\n",
      "4016/4016 [==============================] - 32s 8ms/step - loss: 0.1019 - accuracy: 0.9653 - val_loss: 0.5795 - val_accuracy: 0.8322\n",
      "Epoch 19/30\n",
      "4016/4016 [==============================] - 32s 8ms/step - loss: 0.0691 - accuracy: 0.9809 - val_loss: 1.9684 - val_accuracy: 0.6729\n",
      "Epoch 20/30\n",
      "4016/4016 [==============================] - 33s 8ms/step - loss: 0.0615 - accuracy: 0.9830 - val_loss: 1.3227 - val_accuracy: 0.7424\n",
      "Epoch 21/30\n",
      "4016/4016 [==============================] - 33s 8ms/step - loss: 0.0592 - accuracy: 0.9827 - val_loss: 1.6401 - val_accuracy: 0.5848\n",
      "Epoch 22/30\n",
      "4016/4016 [==============================] - 32s 8ms/step - loss: 0.0249 - accuracy: 0.9938 - val_loss: 2.3109 - val_accuracy: 0.6803\n",
      "Epoch 23/30\n",
      "4016/4016 [==============================] - 33s 8ms/step - loss: 0.0239 - accuracy: 0.9940 - val_loss: 0.3509 - val_accuracy: 0.9046\n",
      "Epoch 24/30\n",
      "4016/4016 [==============================] - 33s 8ms/step - loss: 0.0236 - accuracy: 0.9945 - val_loss: 0.0730 - val_accuracy: 0.9818\n",
      "Epoch 25/30\n",
      "4016/4016 [==============================] - 95s 24ms/step - loss: 0.0491 - accuracy: 0.9826 - val_loss: 4.4962 - val_accuracy: 0.4259\n",
      "Epoch 26/30\n",
      "4016/4016 [==============================] - 94s 23ms/step - loss: 0.1121 - accuracy: 0.9600 - val_loss: 0.1306 - val_accuracy: 0.9079\n",
      "Epoch 27/30\n",
      "4016/4016 [==============================] - 94s 23ms/step - loss: 0.0477 - accuracy: 0.9868 - val_loss: 0.0408 - val_accuracy: 0.9942\n",
      "Epoch 28/30\n",
      "4016/4016 [==============================] - 94s 23ms/step - loss: 0.0284 - accuracy: 0.9928 - val_loss: 0.0312 - val_accuracy: 0.9904\n",
      "Epoch 29/30\n",
      "4016/4016 [==============================] - 95s 24ms/step - loss: 0.0233 - accuracy: 0.9941 - val_loss: 0.1046 - val_accuracy: 0.9363\n",
      "Epoch 30/30\n",
      "4016/4016 [==============================] - 90s 23ms/step - loss: 0.0218 - accuracy: 0.9950 - val_loss: 0.0318 - val_accuracy: 0.9959\n"
     ]
    }
   ],
   "source": [
    "logger = CSVLogger('logs.csv', append=True)\n",
    "his = model.fit(X_train, y_train, epochs=30, batch_size=32, \n",
    "          validation_data=(X_test, y_test), callbacks=[logger])"
   ]
  },
  {
   "cell_type": "code",
   "execution_count": 48,
   "metadata": {
    "id": "nbnvqbLBcdh-"
   },
   "outputs": [
    {
     "name": "stdout",
     "output_type": "stream",
     "text": [
      "1969/1969 [==============================] - 4s 2ms/step - loss: 0.0318 - accuracy: 0.9959\n",
      "accuracy: 99.59%\n"
     ]
    }
   ],
   "source": [
    "# check the model performance on test data\n",
    "scores = model.evaluate(X_test, y_test)\n",
    "print(\"%s: %.2f%%\" % (model.metrics_names[1], scores[1] * 100))"
   ]
  },
  {
   "cell_type": "code",
   "execution_count": 49,
   "metadata": {
    "id": "pB0mA5fderpc"
   },
   "outputs": [
    {
     "data": {
      "text/plain": [
       "dict_keys(['loss', 'accuracy', 'val_loss', 'val_accuracy'])"
      ]
     },
     "execution_count": 49,
     "metadata": {},
     "output_type": "execute_result"
    }
   ],
   "source": [
    "# check history of model\n",
    "history = his.history\n",
    "history.keys()"
   ]
  },
  {
   "cell_type": "code",
   "execution_count": 50,
   "metadata": {
    "id": "64RgKSGdexpE"
   },
   "outputs": [
    {
     "data": {
      "text/plain": [
       "<matplotlib.legend.Legend at 0x1f718504b20>"
      ]
     },
     "execution_count": 50,
     "metadata": {},
     "output_type": "execute_result"
    },
    {
     "data": {
      "image/png": "[encoded data removed]",
      "text/plain": [
       "<Figure size 720x360 with 1 Axes>"
      ]
     },
     "metadata": {},
     "output_type": "display_data"
    }
   ],
   "source": [
    "epochs = range(1, len(history['loss']) + 1)\n",
    "acc = history['accuracy']\n",
    "loss = history['loss']\n",
    "val_acc = history['val_accuracy']\n",
    "val_loss = history['val_loss']\n",
    "\n",
    "# visualize training and val accuracy\n",
    "plt.figure(figsize=(10, 5))\n",
    "plt.title('Training and Validation Accuracy (CNN)')\n",
    "plt.xlabel('Epochs')\n",
    "plt.ylabel('Accuracy')\n",
    "plt.plot(epochs, acc, label='accuracy')\n",
    "plt.plot(epochs, val_acc, label='val_acc')\n",
    "plt.legend()"
   ]
  },
  {
   "cell_type": "code",
   "execution_count": 51,
   "metadata": {
    "id": "eGsFtCXQT6Gs"
   },
   "outputs": [
    {
     "data": {
      "text/plain": [
       "<matplotlib.legend.Legend at 0x1f718455fd0>"
      ]
     },
     "execution_count": 51,
     "metadata": {},
     "output_type": "execute_result"
    },
    {
     "data": {
      "image/png": "[encoded data removed]",
      "text/plain": [
       "<Figure size 720x360 with 1 Axes>"
      ]
     },
     "metadata": {},
     "output_type": "display_data"
    }
   ],
   "source": [
    "# visualize train and val loss\n",
    "plt.figure(figsize=(10, 5))\n",
    "plt.title('Training and Validation Loss(CNN)')\n",
    "plt.xlabel('Epochs')\n",
    "plt.ylabel('Loss')\n",
    "plt.plot(epochs, loss, label='loss', color='g')\n",
    "plt.plot(epochs, val_loss, label='val_loss', color='r')\n",
    "plt.legend()"
   ]
  },
  {
   "cell_type": "code",
   "execution_count": 52,
   "metadata": {
    "id": "-0OnkB5KO5a3"
   },
   "outputs": [
    {
     "name": "stdout",
     "output_type": "stream",
     "text": [
      "1969/1969 [==============================] - 3s 2ms/step\n"
     ]
    }
   ],
   "source": [
    "Y_pred = model.predict(X_test)"
   ]
  },
  {
   "cell_type": "code",
   "execution_count": 53,
   "metadata": {
    "id": "ewf8OfubRHGz"
   },
   "outputs": [
    {
     "data": {
      "text/plain": [
       "array([[3.3990722e-02, 8.5849684e-01, 1.0740369e-01, ..., 3.2499949e-05,\n",
       "        1.0947544e-09, 8.4545457e-07],\n",
       "       [1.7282894e-04, 4.9525407e-19, 2.5377025e-07, ..., 3.5481458e-05,\n",
       "        9.9945432e-01, 3.3707239e-04],\n",
       "       [1.7282894e-04, 4.9525407e-19, 2.5377025e-07, ..., 3.5481458e-05,\n",
       "        9.9945432e-01, 3.3707239e-04],\n",
       "       ...,\n",
       "       [8.0796575e-08, 2.8256119e-26, 5.6956801e-37, ..., 2.5300219e-08,\n",
       "        2.2848840e-18, 9.9999988e-01],\n",
       "       [3.2585904e-02, 8.9302307e-01, 7.4291922e-02, ..., 3.3139902e-05,\n",
       "        1.9109316e-09, 7.8933022e-07],\n",
       "       [9.9988544e-01, 1.1784939e-05, 1.3201595e-06, ..., 3.0746385e-05,\n",
       "        6.8195803e-11, 6.5064854e-10]], dtype=float32)"
      ]
     },
     "execution_count": 53,
     "metadata": {},
     "output_type": "execute_result"
    }
   ],
   "source": [
    "Y_pred"
   ]
  },
  {
   "cell_type": "code",
   "execution_count": 54,
   "metadata": {
    "id": "1In0eBTnRId1"
   },
   "outputs": [],
   "source": [
    "y_pred = np.argmax(Y_pred,axis=1)"
   ]
  },
  {
   "cell_type": "code",
   "execution_count": 55,
   "metadata": {
    "id": "kMGIJXoXRkUy"
   },
   "outputs": [
    {
     "data": {
      "text/plain": [
       "array([1, 5, 5, ..., 6, 1, 0], dtype=int64)"
      ]
     },
     "execution_count": 55,
     "metadata": {},
     "output_type": "execute_result"
    }
   ],
   "source": [
    "y_pred"
   ]
  },
  {
   "cell_type": "code",
   "execution_count": 56,
   "metadata": {
    "id": "TzIxhKBdRmgI"
   },
   "outputs": [],
   "source": [
    "class_names = ['Benign' ,\n",
    "'Bot'  ,\n",
    "'DDOS attack-HOIC'  ,\n",
    "'DoS attacks-GoldenEye' ,\n",
    "'DoS attacks-Slowloris' ,\n",
    "'FTP-BruteForce',                      \n",
    "'SSH-Bruteforce']"
   ]
  },
  {
   "cell_type": "code",
   "execution_count": 57,
   "metadata": {
    "id": "V8grWYd7SwJ7"
   },
   "outputs": [],
   "source": [
    "from sklearn.metrics import classification_report,confusion_matrix"
   ]
  },
  {
   "cell_type": "code",
   "execution_count": 58,
   "metadata": {},
   "outputs": [
    {
     "name": "stdout",
     "output_type": "stream",
     "text": [
      "                       precision    recall  f1-score   support\n",
      "\n",
      "               Benign     0.9949    0.9780    0.9864      8856\n",
      "                  Bot     0.9978    0.9990    0.9984      9052\n",
      "     DDOS attack-HOIC     0.9871    0.9996    0.9933      8981\n",
      "DoS attacks-GoldenEye     0.9939    0.9986    0.9962      8988\n",
      "DoS attacks-Slowloris     0.9977    0.9961    0.9969      9019\n",
      "       FTP-BruteForce     0.9998    1.0000    0.9999      9041\n",
      "       SSH-Bruteforce     1.0000    0.9997    0.9998      9063\n",
      "\n",
      "             accuracy                         0.9959     63000\n",
      "            macro avg     0.9959    0.9958    0.9958     63000\n",
      "         weighted avg     0.9959    0.9959    0.9959     63000\n",
      "\n"
     ]
    }
   ],
   "source": [
    "print(classification_report(np.argmax(y_test,axis=1), y_pred,labels=np.arange(0,len(class_names),1),target_names=class_names, digits=4,zero_division=0))"
   ]
  },
  {
   "cell_type": "code",
   "execution_count": 59,
   "metadata": {
    "id": "1JzxKREGTCty"
   },
   "outputs": [
    {
     "name": "stdout",
     "output_type": "stream",
     "text": [
      "[[8661   20  112   52   11    0    0]\n",
      " [   6 9043    3    0    0    0    0]\n",
      " [   3    0 8977    0    1    0    0]\n",
      " [   3    0    1 8975    9    0    0]\n",
      " [  32    0    0    3 8984    0    0]\n",
      " [   0    0    0    0    0 9041    0]\n",
      " [   0    0    1    0    0    2 9060]]\n"
     ]
    }
   ],
   "source": [
    "print(confusion_matrix(np.argmax(y_test,axis=1), y_pred))"
   ]
  }
 ],
 "metadata": {
  "accelerator": "GPU",
  "colab": {
   "provenance": []
  },
  "gpuClass": "standard",
  "kernelspec": {
   "display_name": "Python 3 (ipykernel)",
   "language": "python",
   "name": "python3"
  },
  "language_info": {
   "codemirror_mode": {
    "name": "ipython",
    "version": 3
   },
   "file_extension": ".py",
   "mimetype": "text/x-python",
   "name": "python",
   "nbconvert_exporter": "python",
   "pygments_lexer": "ipython3",
   "version": "3.9.12"
  }
 },
 "nbformat": 4,
 "nbformat_minor": 1
}
