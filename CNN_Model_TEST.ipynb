{
  "cells": [
    {
      "cell_type": "markdown",
      "metadata": {
        "id": "40iCxpZ6sPg-"
      },
      "source": [
        "**Mounting the drive.**"
      ]
    },
    {
      "cell_type": "code",
      "execution_count": 1,
      "metadata": {
        "colab": {
          "base_uri": "https://localhost:8080/"
        },
        "id": "ML8OJdXNsUBR",
        "outputId": "5a82fad8-b7af-4e29-86bb-c16ea138510d"
      },
      "outputs": [
        {
          "name": "stdout",
          "output_type": "stream",
          "text": [
            "Mounted at /content/drive/\n"
          ]
        }
      ],
      "source": [
        "from google.colab import drive\n",
        "drive.mount('/content/drive/')"
      ]
    },
    {
      "cell_type": "code",
      "execution_count": 2,
      "metadata": {
        "colab": {
          "base_uri": "https://localhost:8080/"
        },
        "id": "QmAPy0gysqoG",
        "outputId": "8686c330-29f5-422d-cce7-35d2d7d9c023"
      },
      "outputs": [
        {
          "name": "stdout",
          "output_type": "stream",
          "text": [
            "/content/drive/My Drive/Colab Notebooks\n"
          ]
        }
      ],
      "source": [
        "%cd /content/drive/My Drive/Colab Notebooks/"
      ]
    },
    {
      "cell_type": "code",
      "execution_count": 3,
      "metadata": {
        "colab": {
          "base_uri": "https://localhost:8080/"
        },
        "id": "LA35rVkBsvlZ",
        "outputId": "52921931-3594-4c50-e795-c048a0303e98"
      },
      "outputs": [
        {
          "name": "stdout",
          "output_type": "stream",
          "text": [
            " \u001b[0m\u001b[01;34mCIC-IDS-2018-Dataset\u001b[0m/  'Copy of CNN Model.ipynb'\n",
            "'CNN Model.ipynb'       'LSTM Model.ipynb'\n"
          ]
        }
      ],
      "source": [
        "ls"
      ]
    },
    {
      "cell_type": "code",
      "execution_count": 4,
      "metadata": {
        "colab": {
          "base_uri": "https://localhost:8080/"
        },
        "id": "nUsJdqkMypZN",
        "outputId": "bb157153-0b96-4228-a8d1-1004455a1275"
      },
      "outputs": [
        {
          "name": "stdout",
          "output_type": "stream",
          "text": [
            "/content/drive/My Drive/Colab Notebooks/CIC-IDS-2018-Dataset\n"
          ]
        }
      ],
      "source": [
        "%cd CIC-IDS-2018-Dataset"
      ]
    },
    {
      "cell_type": "code",
      "execution_count": 6,
      "metadata": {
        "colab": {
          "base_uri": "https://localhost:8080/"
        },
        "id": "z3JRm-DyPsDA",
        "outputId": "202e2f20-2671-483f-9078-542c9a28a413"
      },
      "outputs": [
        {
          "name": "stdout",
          "output_type": "stream",
          "text": [
            "Friday-02-03-2018_TrafficForML_CICFlowMeter.csv\n",
            "Friday-23-02-2018_TrafficForML_CICFlowMeter.csv\n",
            "Thuesday-20-02-2018_TrafficForML_CICFlowMeter.csv\n",
            "Thursday-01-03-2018_TrafficForML_CICFlowMeter.csv\n",
            "Thursday-15-02-2018_TrafficForML_CICFlowMeter.csv\n",
            "Thursday-22-02-2018_TrafficForML_CICFlowMeter.csv\n",
            "Wednesday-14-02-2018_TrafficForML_CICFlowMeter.csv\n",
            "Wednesday-21-02-2018_TrafficForML_CICFlowMeter.csv\n",
            "Wednesday-28-02-2018_TrafficForML_CICFlowMeter.csv\n"
          ]
        }
      ],
      "source": [
        "%ls"
      ]
    },
    {
      "cell_type": "code",
      "execution_count": 2,
      "metadata": {},
      "outputs": [
        {
          "name": "stdout",
          "output_type": "stream",
          "text": [
            "d:\\Major_Project\n"
          ]
        }
      ],
      "source": [
        "%cd "
      ]
    },
    {
      "cell_type": "code",
      "execution_count": 7,
      "metadata": {},
      "outputs": [
        {
          "name": "stdout",
          "output_type": "stream",
          "text": [
            "d:\\Major_Project\\CIC-IDS-2018-Dataset\\CIC-IDS-2018-Dataset\n"
          ]
        }
      ],
      "source": [
        "%cd CIC-IDS-2018-Dataset\n"
      ]
    },
    {
      "cell_type": "code",
      "execution_count": 8,
      "metadata": {},
      "outputs": [
        {
          "name": "stdout",
          "output_type": "stream",
          "text": [
            " Volume in drive D is DATA\n",
            " Volume Serial Number is BEAB-C5B7\n",
            "\n",
            " Directory of d:\\Major_Project\\CIC-IDS-2018-Dataset\\CIC-IDS-2018-Dataset\n",
            "\n",
            "04-04-2023  12:46 PM    <DIR>          .\n",
            "04-04-2023  12:46 PM    <DIR>          ..\n",
            "13-03-2023  10:43 AM       352,368,373 Friday-02-03-2018_TrafficForML_CICFlowMeter.csv\n",
            "13-03-2023  10:41 AM       333,723,605 Friday-16-02-2018_TrafficForML_CICFlowMeter.csv\n",
            "13-03-2023  10:43 AM       382,840,456 Friday-23-02-2018_TrafficForML_CICFlowMeter.csv\n",
            "04-04-2023  12:49 PM               329 logs.csv\n",
            "13-03-2023  10:43 AM     4,054,925,350 Thuesday-20-02-2018_TrafficForML_CICFlowMeter.csv\n",
            "13-03-2023  10:43 AM       107,842,858 Thursday-01-03-2018_TrafficForML_CICFlowMeter.csv\n",
            "13-03-2023  10:40 AM       375,945,899 Thursday-15-02-2018_TrafficForML_CICFlowMeter.csv\n",
            "13-03-2023  10:40 AM       382,636,202 Thursday-22-02-2018_TrafficForML_CICFlowMeter.csv\n",
            "13-03-2023  10:41 AM       358,223,333 Wednesday-14-02-2018_TrafficForML_CICFlowMeter.csv\n",
            "13-03-2023  10:41 AM       328,893,673 Wednesday-21-02-2018_TrafficForML_CICFlowMeter.csv\n",
            "13-03-2023  10:41 AM       209,249,758 Wednesday-28-02-2018_TrafficForML_CICFlowMeter.csv\n",
            "              11 File(s)  6,886,649,836 bytes\n",
            "               2 Dir(s)  428,843,565,056 bytes free\n"
          ]
        }
      ],
      "source": [
        "%ls"
      ]
    },
    {
      "cell_type": "markdown",
      "metadata": {
        "id": "Z8HlhoIJs4Vt"
      },
      "source": [
        "**Reading the contents of file using pandas library.**"
      ]
    },
    {
      "cell_type": "code",
      "execution_count": 4,
      "metadata": {
        "id": "5CayHBavs30x"
      },
      "outputs": [],
      "source": [
        "import pandas as pd\n",
        "import numpy as np"
      ]
    },
    {
      "cell_type": "code",
      "execution_count": 9,
      "metadata": {
        "id": "dTam7C8fsznU"
      },
      "outputs": [],
      "source": [
        "df1 = pd.read_csv('Wednesday-14-02-2018_TrafficForML_CICFlowMeter.csv')\n",
        "df2 = pd.read_csv('Thursday-15-02-2018_TrafficForML_CICFlowMeter.csv')"
      ]
    },
    {
      "cell_type": "code",
      "execution_count": null,
      "metadata": {
        "id": "eysEI-jjmwwG"
      },
      "outputs": [],
      "source": [
        "df5 = pd.read_csv('02-21-2018.csv')\n",
        "df6 = pd.read_csv('02-22-2018.csv')"
      ]
    },
    {
      "cell_type": "code",
      "execution_count": null,
      "metadata": {
        "id": "trdM6xw8mzlN"
      },
      "outputs": [],
      "source": [
        "df7 = pd.read_csv('02-23-2018.csv')\n",
        "df10 = pd.read_csv('03-02-2018.csv')"
      ]
    },
    {
      "cell_type": "code",
      "execution_count": null,
      "metadata": {
        "id": "YrrQq7rCUquD"
      },
      "outputs": [],
      "source": [
        "dfs = pd.concat([df1, df2,df5,df6], ignore_index=True)"
      ]
    },
    {
      "cell_type": "code",
      "execution_count": null,
      "metadata": {
        "id": "MigojPIKZZAK"
      },
      "outputs": [],
      "source": [
        "dfs2 = pd.concat([df7,df10], ignore_index=True)"
      ]
    },
    {
      "cell_type": "code",
      "execution_count": 10,
      "metadata": {
        "id": "sFhc0OeSZmvW"
      },
      "outputs": [],
      "source": [
        "df = pd.concat([df1,df2], ignore_index=True)"
      ]
    },
    {
      "cell_type": "code",
      "execution_count": 11,
      "metadata": {
        "colab": {
          "base_uri": "https://localhost:8080/",
          "height": 418
        },
        "id": "-3mZ-w7AtIQG",
        "outputId": "22f1576d-2258-44aa-95a7-346a5866b819"
      },
      "outputs": [
        {
          "data": {
            "text/html": [
              "<div>\n",
              "<style scoped>\n",
              "    .dataframe tbody tr th:only-of-type {\n",
              "        vertical-align: middle;\n",
              "    }\n",
              "\n",
              "    .dataframe tbody tr th {\n",
              "        vertical-align: top;\n",
              "    }\n",
              "\n",
              "    .dataframe thead th {\n",
              "        text-align: right;\n",
              "    }\n",
              "</style>\n",
              "<table border=\"1\" class=\"dataframe\">\n",
              "  <thead>\n",
              "    <tr style=\"text-align: right;\">\n",
              "      <th></th>\n",
              "      <th>Dst Port</th>\n",
              "      <th>Protocol</th>\n",
              "      <th>Timestamp</th>\n",
              "      <th>Flow Duration</th>\n",
              "      <th>Tot Fwd Pkts</th>\n",
              "      <th>Tot Bwd Pkts</th>\n",
              "      <th>TotLen Fwd Pkts</th>\n",
              "      <th>TotLen Bwd Pkts</th>\n",
              "      <th>Fwd Pkt Len Max</th>\n",
              "      <th>Fwd Pkt Len Min</th>\n",
              "      <th>...</th>\n",
              "      <th>Fwd Seg Size Min</th>\n",
              "      <th>Active Mean</th>\n",
              "      <th>Active Std</th>\n",
              "      <th>Active Max</th>\n",
              "      <th>Active Min</th>\n",
              "      <th>Idle Mean</th>\n",
              "      <th>Idle Std</th>\n",
              "      <th>Idle Max</th>\n",
              "      <th>Idle Min</th>\n",
              "      <th>Label</th>\n",
              "    </tr>\n",
              "  </thead>\n",
              "  <tbody>\n",
              "    <tr>\n",
              "      <th>0</th>\n",
              "      <td>0</td>\n",
              "      <td>0</td>\n",
              "      <td>14/02/2018 08:31:01</td>\n",
              "      <td>112641719</td>\n",
              "      <td>3</td>\n",
              "      <td>0</td>\n",
              "      <td>0</td>\n",
              "      <td>0</td>\n",
              "      <td>0</td>\n",
              "      <td>0</td>\n",
              "      <td>...</td>\n",
              "      <td>0</td>\n",
              "      <td>0.0</td>\n",
              "      <td>0.0</td>\n",
              "      <td>0</td>\n",
              "      <td>0</td>\n",
              "      <td>56320859.5</td>\n",
              "      <td>139.300036</td>\n",
              "      <td>56320958</td>\n",
              "      <td>56320761</td>\n",
              "      <td>Benign</td>\n",
              "    </tr>\n",
              "    <tr>\n",
              "      <th>1</th>\n",
              "      <td>0</td>\n",
              "      <td>0</td>\n",
              "      <td>14/02/2018 08:33:50</td>\n",
              "      <td>112641466</td>\n",
              "      <td>3</td>\n",
              "      <td>0</td>\n",
              "      <td>0</td>\n",
              "      <td>0</td>\n",
              "      <td>0</td>\n",
              "      <td>0</td>\n",
              "      <td>...</td>\n",
              "      <td>0</td>\n",
              "      <td>0.0</td>\n",
              "      <td>0.0</td>\n",
              "      <td>0</td>\n",
              "      <td>0</td>\n",
              "      <td>56320733.0</td>\n",
              "      <td>114.551299</td>\n",
              "      <td>56320814</td>\n",
              "      <td>56320652</td>\n",
              "      <td>Benign</td>\n",
              "    </tr>\n",
              "    <tr>\n",
              "      <th>2</th>\n",
              "      <td>0</td>\n",
              "      <td>0</td>\n",
              "      <td>14/02/2018 08:36:39</td>\n",
              "      <td>112638623</td>\n",
              "      <td>3</td>\n",
              "      <td>0</td>\n",
              "      <td>0</td>\n",
              "      <td>0</td>\n",
              "      <td>0</td>\n",
              "      <td>0</td>\n",
              "      <td>...</td>\n",
              "      <td>0</td>\n",
              "      <td>0.0</td>\n",
              "      <td>0.0</td>\n",
              "      <td>0</td>\n",
              "      <td>0</td>\n",
              "      <td>56319311.5</td>\n",
              "      <td>301.934596</td>\n",
              "      <td>56319525</td>\n",
              "      <td>56319098</td>\n",
              "      <td>Benign</td>\n",
              "    </tr>\n",
              "    <tr>\n",
              "      <th>3</th>\n",
              "      <td>22</td>\n",
              "      <td>6</td>\n",
              "      <td>14/02/2018 08:40:13</td>\n",
              "      <td>6453966</td>\n",
              "      <td>15</td>\n",
              "      <td>10</td>\n",
              "      <td>1239</td>\n",
              "      <td>2273</td>\n",
              "      <td>744</td>\n",
              "      <td>0</td>\n",
              "      <td>...</td>\n",
              "      <td>32</td>\n",
              "      <td>0.0</td>\n",
              "      <td>0.0</td>\n",
              "      <td>0</td>\n",
              "      <td>0</td>\n",
              "      <td>0.0</td>\n",
              "      <td>0.000000</td>\n",
              "      <td>0</td>\n",
              "      <td>0</td>\n",
              "      <td>Benign</td>\n",
              "    </tr>\n",
              "    <tr>\n",
              "      <th>4</th>\n",
              "      <td>22</td>\n",
              "      <td>6</td>\n",
              "      <td>14/02/2018 08:40:23</td>\n",
              "      <td>8804066</td>\n",
              "      <td>14</td>\n",
              "      <td>11</td>\n",
              "      <td>1143</td>\n",
              "      <td>2209</td>\n",
              "      <td>744</td>\n",
              "      <td>0</td>\n",
              "      <td>...</td>\n",
              "      <td>32</td>\n",
              "      <td>0.0</td>\n",
              "      <td>0.0</td>\n",
              "      <td>0</td>\n",
              "      <td>0</td>\n",
              "      <td>0.0</td>\n",
              "      <td>0.000000</td>\n",
              "      <td>0</td>\n",
              "      <td>0</td>\n",
              "      <td>Benign</td>\n",
              "    </tr>\n",
              "  </tbody>\n",
              "</table>\n",
              "<p>5 rows × 80 columns</p>\n",
              "</div>"
            ],
            "text/plain": [
              "   Dst Port  Protocol            Timestamp  Flow Duration  Tot Fwd Pkts  \\\n",
              "0         0         0  14/02/2018 08:31:01      112641719             3   \n",
              "1         0         0  14/02/2018 08:33:50      112641466             3   \n",
              "2         0         0  14/02/2018 08:36:39      112638623             3   \n",
              "3        22         6  14/02/2018 08:40:13        6453966            15   \n",
              "4        22         6  14/02/2018 08:40:23        8804066            14   \n",
              "\n",
              "   Tot Bwd Pkts  TotLen Fwd Pkts  TotLen Bwd Pkts  Fwd Pkt Len Max  \\\n",
              "0             0                0                0                0   \n",
              "1             0                0                0                0   \n",
              "2             0                0                0                0   \n",
              "3            10             1239             2273              744   \n",
              "4            11             1143             2209              744   \n",
              "\n",
              "   Fwd Pkt Len Min  ...  Fwd Seg Size Min  Active Mean  Active Std  \\\n",
              "0                0  ...                 0          0.0         0.0   \n",
              "1                0  ...                 0          0.0         0.0   \n",
              "2                0  ...                 0          0.0         0.0   \n",
              "3                0  ...                32          0.0         0.0   \n",
              "4                0  ...                32          0.0         0.0   \n",
              "\n",
              "   Active Max  Active Min   Idle Mean    Idle Std  Idle Max  Idle Min   Label  \n",
              "0           0           0  56320859.5  139.300036  56320958  56320761  Benign  \n",
              "1           0           0  56320733.0  114.551299  56320814  56320652  Benign  \n",
              "2           0           0  56319311.5  301.934596  56319525  56319098  Benign  \n",
              "3           0           0         0.0    0.000000         0         0  Benign  \n",
              "4           0           0         0.0    0.000000         0         0  Benign  \n",
              "\n",
              "[5 rows x 80 columns]"
            ]
          },
          "execution_count": 11,
          "metadata": {},
          "output_type": "execute_result"
        }
      ],
      "source": [
        "df.head()"
      ]
    },
    {
      "cell_type": "markdown",
      "metadata": {
        "id": "YTX2pB-ytvM0"
      },
      "source": [
        "**EDA (Exploratory Data Analysis)** \n",
        "\n",
        "For making a proper undertanding of dataset we are using, we will perform a bief EDA (Exploratory Data Analysis). The EDA is sub-divided into:\n",
        "\n",
        "1.   Data Visuals\n",
        "2.  Data Understanding\n",
        "3. Data Analysis\n",
        "\n",
        "\n",
        "\n",
        "\n",
        "\n",
        "\n"
      ]
    },
    {
      "cell_type": "code",
      "execution_count": 12,
      "metadata": {
        "colab": {
          "base_uri": "https://localhost:8080/"
        },
        "id": "_FuMCqPMtV_F",
        "outputId": "887b695d-5ce8-4b2d-8183-216b0feb14fd"
      },
      "outputs": [
        {
          "data": {
            "text/plain": [
              "(2097150, 80)"
            ]
          },
          "execution_count": 12,
          "metadata": {},
          "output_type": "execute_result"
        }
      ],
      "source": [
        "# check the shape of data\n",
        "df.shape"
      ]
    },
    {
      "cell_type": "code",
      "execution_count": 13,
      "metadata": {
        "colab": {
          "base_uri": "https://localhost:8080/"
        },
        "id": "tLPn7_o3uOb1",
        "outputId": "9983de81-1731-4e88-b37f-d6f7c2e4e3e6"
      },
      "outputs": [
        {
          "name": "stdout",
          "output_type": "stream",
          "text": [
            "Number of Rows (Samples): 2097150\n",
            "Number of Columns (Features): 80\n"
          ]
        }
      ],
      "source": [
        "# check the number of rows and columns\n",
        "print('Number of Rows (Samples): %s' % str((df.shape[0])))\n",
        "print('Number of Columns (Features): %s' % str((df.shape[1])))"
      ]
    },
    {
      "cell_type": "code",
      "execution_count": 14,
      "metadata": {
        "colab": {
          "base_uri": "https://localhost:8080/"
        },
        "id": "n6WPYLQouUxA",
        "outputId": "8c65071d-0e59-46d6-97ef-b8a64dd1ad09"
      },
      "outputs": [
        {
          "data": {
            "text/plain": [
              "Index(['Dst Port', 'Protocol', 'Timestamp', 'Flow Duration', 'Tot Fwd Pkts',\n",
              "       'Tot Bwd Pkts', 'TotLen Fwd Pkts', 'TotLen Bwd Pkts', 'Fwd Pkt Len Max',\n",
              "       'Fwd Pkt Len Min', 'Fwd Pkt Len Mean', 'Fwd Pkt Len Std',\n",
              "       'Bwd Pkt Len Max', 'Bwd Pkt Len Min', 'Bwd Pkt Len Mean',\n",
              "       'Bwd Pkt Len Std', 'Flow Byts/s', 'Flow Pkts/s', 'Flow IAT Mean',\n",
              "       'Flow IAT Std', 'Flow IAT Max', 'Flow IAT Min', 'Fwd IAT Tot',\n",
              "       'Fwd IAT Mean', 'Fwd IAT Std', 'Fwd IAT Max', 'Fwd IAT Min',\n",
              "       'Bwd IAT Tot', 'Bwd IAT Mean', 'Bwd IAT Std', 'Bwd IAT Max',\n",
              "       'Bwd IAT Min', 'Fwd PSH Flags', 'Bwd PSH Flags', 'Fwd URG Flags',\n",
              "       'Bwd URG Flags', 'Fwd Header Len', 'Bwd Header Len', 'Fwd Pkts/s',\n",
              "       'Bwd Pkts/s', 'Pkt Len Min', 'Pkt Len Max', 'Pkt Len Mean',\n",
              "       'Pkt Len Std', 'Pkt Len Var', 'FIN Flag Cnt', 'SYN Flag Cnt',\n",
              "       'RST Flag Cnt', 'PSH Flag Cnt', 'ACK Flag Cnt', 'URG Flag Cnt',\n",
              "       'CWE Flag Count', 'ECE Flag Cnt', 'Down/Up Ratio', 'Pkt Size Avg',\n",
              "       'Fwd Seg Size Avg', 'Bwd Seg Size Avg', 'Fwd Byts/b Avg',\n",
              "       'Fwd Pkts/b Avg', 'Fwd Blk Rate Avg', 'Bwd Byts/b Avg',\n",
              "       'Bwd Pkts/b Avg', 'Bwd Blk Rate Avg', 'Subflow Fwd Pkts',\n",
              "       'Subflow Fwd Byts', 'Subflow Bwd Pkts', 'Subflow Bwd Byts',\n",
              "       'Init Fwd Win Byts', 'Init Bwd Win Byts', 'Fwd Act Data Pkts',\n",
              "       'Fwd Seg Size Min', 'Active Mean', 'Active Std', 'Active Max',\n",
              "       'Active Min', 'Idle Mean', 'Idle Std', 'Idle Max', 'Idle Min', 'Label'],\n",
              "      dtype='object')"
            ]
          },
          "execution_count": 14,
          "metadata": {},
          "output_type": "execute_result"
        }
      ],
      "source": [
        "# check the columns in data\n",
        "df.columns"
      ]
    },
    {
      "cell_type": "code",
      "execution_count": 15,
      "metadata": {
        "colab": {
          "base_uri": "https://localhost:8080/"
        },
        "id": "wRGotNcKuggK",
        "outputId": "81029c46-e58c-45f1-f552-3a2b2d9e4f01"
      },
      "outputs": [
        {
          "name": "stdout",
          "output_type": "stream",
          "text": [
            "Total columns in our data: 80\n"
          ]
        }
      ],
      "source": [
        "# check the number of columns\n",
        "print('Total columns in our data: %s' % str(len(df.columns)))"
      ]
    },
    {
      "cell_type": "code",
      "execution_count": 16,
      "metadata": {
        "colab": {
          "base_uri": "https://localhost:8080/"
        },
        "id": "YTLc_4gVuiur",
        "outputId": "affbdb86-0d8d-45ef-e185-9550df9bfcfd"
      },
      "outputs": [
        {
          "name": "stdout",
          "output_type": "stream",
          "text": [
            "<class 'pandas.core.frame.DataFrame'>\n",
            "RangeIndex: 2097150 entries, 0 to 2097149\n",
            "Data columns (total 80 columns):\n",
            " #   Column             Dtype  \n",
            "---  ------             -----  \n",
            " 0   Dst Port           int64  \n",
            " 1   Protocol           int64  \n",
            " 2   Timestamp          object \n",
            " 3   Flow Duration      int64  \n",
            " 4   Tot Fwd Pkts       int64  \n",
            " 5   Tot Bwd Pkts       int64  \n",
            " 6   TotLen Fwd Pkts    int64  \n",
            " 7   TotLen Bwd Pkts    int64  \n",
            " 8   Fwd Pkt Len Max    int64  \n",
            " 9   Fwd Pkt Len Min    int64  \n",
            " 10  Fwd Pkt Len Mean   float64\n",
            " 11  Fwd Pkt Len Std    float64\n",
            " 12  Bwd Pkt Len Max    int64  \n",
            " 13  Bwd Pkt Len Min    int64  \n",
            " 14  Bwd Pkt Len Mean   float64\n",
            " 15  Bwd Pkt Len Std    float64\n",
            " 16  Flow Byts/s        float64\n",
            " 17  Flow Pkts/s        float64\n",
            " 18  Flow IAT Mean      float64\n",
            " 19  Flow IAT Std       float64\n",
            " 20  Flow IAT Max       int64  \n",
            " 21  Flow IAT Min       int64  \n",
            " 22  Fwd IAT Tot        int64  \n",
            " 23  Fwd IAT Mean       float64\n",
            " 24  Fwd IAT Std        float64\n",
            " 25  Fwd IAT Max        int64  \n",
            " 26  Fwd IAT Min        int64  \n",
            " 27  Bwd IAT Tot        int64  \n",
            " 28  Bwd IAT Mean       float64\n",
            " 29  Bwd IAT Std        float64\n",
            " 30  Bwd IAT Max        int64  \n",
            " 31  Bwd IAT Min        int64  \n",
            " 32  Fwd PSH Flags      int64  \n",
            " 33  Bwd PSH Flags      int64  \n",
            " 34  Fwd URG Flags      int64  \n",
            " 35  Bwd URG Flags      int64  \n",
            " 36  Fwd Header Len     int64  \n",
            " 37  Bwd Header Len     int64  \n",
            " 38  Fwd Pkts/s         float64\n",
            " 39  Bwd Pkts/s         float64\n",
            " 40  Pkt Len Min        int64  \n",
            " 41  Pkt Len Max        int64  \n",
            " 42  Pkt Len Mean       float64\n",
            " 43  Pkt Len Std        float64\n",
            " 44  Pkt Len Var        float64\n",
            " 45  FIN Flag Cnt       int64  \n",
            " 46  SYN Flag Cnt       int64  \n",
            " 47  RST Flag Cnt       int64  \n",
            " 48  PSH Flag Cnt       int64  \n",
            " 49  ACK Flag Cnt       int64  \n",
            " 50  URG Flag Cnt       int64  \n",
            " 51  CWE Flag Count     int64  \n",
            " 52  ECE Flag Cnt       int64  \n",
            " 53  Down/Up Ratio      int64  \n",
            " 54  Pkt Size Avg       float64\n",
            " 55  Fwd Seg Size Avg   float64\n",
            " 56  Bwd Seg Size Avg   float64\n",
            " 57  Fwd Byts/b Avg     int64  \n",
            " 58  Fwd Pkts/b Avg     int64  \n",
            " 59  Fwd Blk Rate Avg   int64  \n",
            " 60  Bwd Byts/b Avg     int64  \n",
            " 61  Bwd Pkts/b Avg     int64  \n",
            " 62  Bwd Blk Rate Avg   int64  \n",
            " 63  Subflow Fwd Pkts   int64  \n",
            " 64  Subflow Fwd Byts   int64  \n",
            " 65  Subflow Bwd Pkts   int64  \n",
            " 66  Subflow Bwd Byts   int64  \n",
            " 67  Init Fwd Win Byts  int64  \n",
            " 68  Init Bwd Win Byts  int64  \n",
            " 69  Fwd Act Data Pkts  int64  \n",
            " 70  Fwd Seg Size Min   int64  \n",
            " 71  Active Mean        float64\n",
            " 72  Active Std         float64\n",
            " 73  Active Max         int64  \n",
            " 74  Active Min         int64  \n",
            " 75  Idle Mean          float64\n",
            " 76  Idle Std           float64\n",
            " 77  Idle Max           int64  \n",
            " 78  Idle Min           int64  \n",
            " 79  Label              object \n",
            "dtypes: float64(24), int64(54), object(2)\n",
            "memory usage: 1.2+ GB\n"
          ]
        }
      ],
      "source": [
        "df.info()"
      ]
    },
    {
      "cell_type": "markdown",
      "metadata": {
        "id": "NhBBTW5Au9kK"
      },
      "source": [
        "The following information tells us that:\n",
        "\n",
        "1. We have a huge amount of data, containing 1 million+ entries (samples)\n",
        "2. There are a total of 80 columns.\n",
        "3. There are missing values in our data, which need to be filled or dropped for proper modelling"
      ]
    },
    {
      "cell_type": "code",
      "execution_count": 17,
      "metadata": {
        "colab": {
          "base_uri": "https://localhost:8080/"
        },
        "id": "AXGlZqP3vFK2",
        "outputId": "0da891ba-380e-482b-b873-9351816db4b7"
      },
      "outputs": [
        {
          "data": {
            "text/plain": [
              "Benign                   1663703\n",
              "FTP-BruteForce            193360\n",
              "SSH-Bruteforce            187589\n",
              "DoS attacks-GoldenEye      41508\n",
              "DoS attacks-Slowloris      10990\n",
              "Name: Label, dtype: int64"
            ]
          },
          "execution_count": 17,
          "metadata": {},
          "output_type": "execute_result"
        }
      ],
      "source": [
        "# check the number of values for labels\n",
        "df['Label'].value_counts()"
      ]
    },
    {
      "cell_type": "markdown",
      "metadata": {
        "id": "VYPOao4rvPfM"
      },
      "source": [
        "# Data Visualizations"
      ]
    },
    {
      "cell_type": "markdown",
      "metadata": {
        "id": "cGhiSU1Ns4Lh"
      },
      "source": [
        "Since Data Visualization gives us insights from our data,which we can use to extract faetures and learn trends in the data.\n",
        "The visuals include bar plots, distribution plots, scatter plots, etc."
      ]
    },
    {
      "cell_type": "code",
      "execution_count": 21,
      "metadata": {
        "id": "la9eB0t2tiLx"
      },
      "outputs": [
        {
          "ename": "ModuleNotFoundError",
          "evalue": "No module named 'matplotlib'",
          "output_type": "error",
          "traceback": [
            "\u001b[1;31m---------------------------------------------------------------------------\u001b[0m",
            "\u001b[1;31mModuleNotFoundError\u001b[0m                       Traceback (most recent call last)",
            "Cell \u001b[1;32mIn[21], line 1\u001b[0m\n\u001b[1;32m----> 1\u001b[0m \u001b[39mimport\u001b[39;00m \u001b[39mmatplotlib\u001b[39;00m\u001b[39m.\u001b[39;00m\u001b[39mpyplot\u001b[39;00m \u001b[39mas\u001b[39;00m \u001b[39mplt\u001b[39;00m\n\u001b[0;32m      2\u001b[0m \u001b[39mimport\u001b[39;00m \u001b[39mseaborn\u001b[39;00m \u001b[39mas\u001b[39;00m \u001b[39msns\u001b[39;00m\n\u001b[0;32m      3\u001b[0m \u001b[39mimport\u001b[39;00m \u001b[39mplotly\u001b[39;00m\u001b[39m.\u001b[39;00m\u001b[39mexpress\u001b[39;00m \u001b[39mas\u001b[39;00m \u001b[39mpx\u001b[39;00m\n",
            "\u001b[1;31mModuleNotFoundError\u001b[0m: No module named 'matplotlib'"
          ]
        }
      ],
      "source": [
        "import matplotlib.pyplot as plt\n",
        "import seaborn as sns\n",
        "import plotly.express as px\n",
        "import plotly.offline as pyo"
      ]
    },
    {
      "cell_type": "code",
      "execution_count": 17,
      "metadata": {
        "colab": {
          "base_uri": "https://localhost:8080/",
          "height": 566
        },
        "id": "YaY49NgvvSKB",
        "outputId": "a24336e0-7700-4c9b-d9e6-5b37aa11fc06"
      },
      "outputs": [
        {
          "data": {
            "image/png": "[encoded data removed]",
            "text/plain": [
              "<Figure size 1200x600 with 1 Axes>"
            ]
          },
          "metadata": {},
          "output_type": "display_data"
        }
      ],
      "source": [
        "# make a plot number of labels\n",
        "sns.set(rc={'figure.figsize':(12, 6)})\n",
        "plt.xlabel('Attack Type')\n",
        "sns.set_theme()\n",
        "ax = sns.countplot(x='Label', data=df)\n",
        "ax.set(xlabel='Attack Type', ylabel='Number of Attacks')\n",
        "plt.show()"
      ]
    },
    {
      "cell_type": "code",
      "execution_count": 18,
      "metadata": {
        "colab": {
          "base_uri": "https://localhost:8080/",
          "height": 602
        },
        "id": "W0od6PoxuLAQ",
        "outputId": "1f68b387-b818-4dae-f2ff-cc72e5549f91"
      },
      "outputs": [
        {
          "name": "stdout",
          "output_type": "stream",
          "text": [
            "CPU times: user 2.8 s, sys: 153 ms, total: 2.95 s\n",
            "Wall time: 6 s\n"
          ]
        },
        {
          "data": {
            "text/plain": [
              "<Axes: xlabel='Bwd Pkts/s', ylabel='Fwd Seg Size Min'>"
            ]
          },
          "execution_count": 18,
          "metadata": {},
          "output_type": "execute_result"
        },
        {
          "data": {
            "image/png": "[encoded data removed]",
            "text/plain": [
              "<Figure size 1200x600 with 1 Axes>"
            ]
          },
          "metadata": {},
          "output_type": "display_data"
        }
      ],
      "source": [
        "%%time\n",
        "sns.set(rc={'figure.figsize':(12, 6)})\n",
        "sns.scatterplot(x=df['Bwd Pkts/s'][:50000], y=df['Fwd Seg Size Min'][:50000], \n",
        "                hue='Label', data=df)"
      ]
    },
    {
      "cell_type": "code",
      "execution_count": 19,
      "metadata": {
        "colab": {
          "base_uri": "https://localhost:8080/"
        },
        "id": "Fk9rD3k4uibW",
        "outputId": "798e2816-e8b2-4331-d5d5-30f6e5dd73f8"
      },
      "outputs": [
        {
          "data": {
            "text/plain": [
              "dtype('O')"
            ]
          },
          "execution_count": 19,
          "metadata": {},
          "output_type": "execute_result"
        }
      ],
      "source": [
        "# check the dtype of timestamp column\n",
        "(df['Timestamp'].dtype)"
      ]
    },
    {
      "cell_type": "markdown",
      "metadata": {
        "id": "5yoQUOZCu6iv"
      },
      "source": [
        "# Data Preprocessing\n",
        "Data preprocessing plays an important part in the process of data science, since data may not be fully clean and can contain missing or null values. In this step, we are undergoing some preprocessing steps that will help us if there is any null or missing value in our data."
      ]
    },
    {
      "cell_type": "code",
      "execution_count": 18,
      "metadata": {
        "colab": {
          "base_uri": "https://localhost:8080/"
        },
        "id": "uqQXhYoeu-CJ",
        "outputId": "8e6bf200-2d57-472e-e710-25e549fa1c41"
      },
      "outputs": [
        {
          "data": {
            "text/plain": [
              "array([   0,    0,    0,    0,    0,    0,    0,    0,    0,    0,    0,\n",
              "          0,    0,    0,    0,    0, 7198,    0,    0,    0,    0,    0,\n",
              "          0,    0,    0,    0,    0,    0,    0,    0,    0,    0,    0,\n",
              "          0,    0,    0,    0,    0,    0,    0,    0,    0,    0,    0,\n",
              "          0,    0,    0,    0,    0,    0,    0,    0,    0,    0,    0,\n",
              "          0,    0,    0,    0,    0,    0,    0,    0,    0,    0,    0,\n",
              "          0,    0,    0,    0,    0,    0,    0,    0,    0,    0,    0,\n",
              "          0,    0,    0], dtype=int64)"
            ]
          },
          "execution_count": 18,
          "metadata": {},
          "output_type": "execute_result"
        }
      ],
      "source": [
        "# check for some null or missing values in our dataset\n",
        "df.isna().sum().to_numpy()"
      ]
    },
    {
      "cell_type": "markdown",
      "metadata": {
        "id": "ITFjqqNzvG5n"
      },
      "source": [
        "All features in the data have no null or missing values, except one feature that contains 2277 missing values. We need to remove this column from our data, so that our data may get cleaned."
      ]
    },
    {
      "cell_type": "code",
      "execution_count": 19,
      "metadata": {
        "colab": {
          "base_uri": "https://localhost:8080/"
        },
        "id": "TEIQ_X-JvFlV",
        "outputId": "3a0e7629-40c3-4e70-8759-59272df4ba5f"
      },
      "outputs": [
        {
          "data": {
            "text/plain": [
              "array([0, 0, 0, 0, 0, 0, 0, 0, 0, 0, 0, 0, 0, 0, 0, 0, 0, 0, 0, 0, 0, 0,\n",
              "       0, 0, 0, 0, 0, 0, 0, 0, 0, 0, 0, 0, 0, 0, 0, 0, 0, 0, 0, 0, 0, 0,\n",
              "       0, 0, 0, 0, 0, 0, 0, 0, 0, 0, 0, 0, 0, 0, 0, 0, 0, 0, 0, 0, 0, 0,\n",
              "       0, 0, 0, 0, 0, 0, 0, 0, 0, 0, 0, 0, 0, 0], dtype=int64)"
            ]
          },
          "execution_count": 19,
          "metadata": {},
          "output_type": "execute_result"
        }
      ],
      "source": [
        "# drop null or missing columns\n",
        "cleaned_data = df.dropna()\n",
        "cleaned_data.isna().sum().to_numpy()"
      ]
    },
    {
      "cell_type": "markdown",
      "metadata": {
        "id": "VXAGUCmPvNfw"
      },
      "source": [
        "After removing the missing valued column in our data, we have now no feature that contains any missing or null value. Data is cleaned now."
      ]
    },
    {
      "cell_type": "markdown",
      "metadata": {
        "id": "ArLJ3hVEvPmO"
      },
      "source": [
        "**Label Encoding**\n",
        "\n",
        "The Label feature in the data contains 5 labels as Benign, BruteForceFTP BruteForceSSH,Dos Attacks GoldenEye, Dos attacks Sloloris. All these are in string format. For our neural network, we need to convert them into numbers so that our NN may understand their representations."
      ]
    },
    {
      "cell_type": "code",
      "execution_count": 20,
      "metadata": {
        "colab": {
          "base_uri": "https://localhost:8080/"
        },
        "id": "SEmJ1bZdvOg8",
        "outputId": "08dc6c2a-53f9-44e5-b6b8-0de251bc36f0"
      },
      "outputs": [
        {
          "ename": "ModuleNotFoundError",
          "evalue": "No module named 'sklearn'",
          "output_type": "error",
          "traceback": [
            "\u001b[1;31m---------------------------------------------------------------------------\u001b[0m",
            "\u001b[1;31mModuleNotFoundError\u001b[0m                       Traceback (most recent call last)",
            "Cell \u001b[1;32mIn[20], line 1\u001b[0m\n\u001b[1;32m----> 1\u001b[0m \u001b[39mfrom\u001b[39;00m \u001b[39msklearn\u001b[39;00m\u001b[39m.\u001b[39;00m\u001b[39mpreprocessing\u001b[39;00m \u001b[39mimport\u001b[39;00m LabelEncoder\n\u001b[0;32m      2\u001b[0m \u001b[39m# encode the column labels\u001b[39;00m\n\u001b[0;32m      3\u001b[0m label_encoder \u001b[39m=\u001b[39m LabelEncoder()\n",
            "\u001b[1;31mModuleNotFoundError\u001b[0m: No module named 'sklearn'"
          ]
        }
      ],
      "source": [
        "from sklearn.preprocessing import LabelEncoder\n",
        "# encode the column labels\n",
        "label_encoder = LabelEncoder()\n",
        "cleaned_data['Label']= label_encoder.fit_transform(cleaned_data['Label'])\n",
        "cleaned_data['Label'].unique()"
      ]
    },
    {
      "cell_type": "code",
      "execution_count": 23,
      "metadata": {
        "colab": {
          "base_uri": "https://localhost:8080/"
        },
        "id": "N7EuhjS2v_SA",
        "outputId": "a99131e8-3163-4a1e-8cba-13d8d5f678dd"
      },
      "outputs": [
        {
          "data": {
            "text/plain": [
              "0    1656511\n",
              "3     193354\n",
              "4     187589\n",
              "1      41508\n",
              "2      10990\n",
              "Name: Label, dtype: int64"
            ]
          },
          "execution_count": 23,
          "metadata": {},
          "output_type": "execute_result"
        }
      ],
      "source": [
        "# check for encoded labels\n",
        "cleaned_data['Label'].value_counts()"
      ]
    },
    {
      "cell_type": "markdown",
      "metadata": {
        "id": "kaHGzawLwHlw"
      },
      "source": [
        "# Shaping the data for CNN\n",
        "For applying a convolutional neural network on our data, we will have to follow following steps:\n",
        "\n",
        "1.  Seperate the data of each of the labels\n",
        "2.  Create a numerical matrix representation of labels\n",
        "3. Apply resampling on data so that can make the distribution equal for all labels\n",
        "4. Create X (predictor) and Y (target) variables\n",
        "5. Split the data into train and test sets\n",
        "6. Make data multi-dimensional for CNN\n",
        "7. Apply CNN on data"
      ]
    },
    {
      "cell_type": "code",
      "execution_count": 24,
      "metadata": {
        "id": "Vrp7rox6wXOy"
      },
      "outputs": [],
      "source": [
        "# make 5 seperate datasets for 3 feature labels\n",
        "data_1 = cleaned_data[cleaned_data['Label'] == 0]\n",
        "data_2 = cleaned_data[cleaned_data['Label'] == 1]\n",
        "data_3 = cleaned_data[cleaned_data['Label'] == 2]\n",
        "data_4 = cleaned_data[cleaned_data['Label'] == 3]\n",
        "data_5 = cleaned_data[cleaned_data['Label'] == 4]\n",
        "\n",
        "\n",
        "# make benign feature\n",
        "y_1 = np.zeros(data_1.shape[0])\n",
        "y_benign = pd.DataFrame(y_1)\n",
        "\n",
        "# DoS attacks-GoldenEye\n",
        "y_2 = np.ones(data_2.shape[0])\n",
        "y_dosGold = pd.DataFrame(y_2)\n",
        "\n",
        "# DoS attacks-Slowloris \n",
        "y_3 = np.full(data_3.shape[0],2)\n",
        "y_dosSlow = pd.DataFrame(y_3)\n",
        "\n",
        "# make FTP bruteforce feature\n",
        "y_4 = np.full(data_4.shape[0],3)\n",
        "y_bf = pd.DataFrame(y_4)\n",
        "\n",
        "# make bruteforceSSH feature\n",
        "y_5 = np.full(data_5.shape[0], 4)\n",
        "y_ssh = pd.DataFrame(y_5)\n",
        "\n",
        "# merging the original dataframe\n",
        "X = pd.concat([data_1, data_2, data_3,data_4,data_5], sort=True)\n",
        "y = pd.concat([y_benign,y_dosGold,y_dosSlow, y_bf, y_ssh], sort=True)"
      ]
    },
    {
      "cell_type": "code",
      "execution_count": 25,
      "metadata": {
        "colab": {
          "base_uri": "https://localhost:8080/"
        },
        "id": "vM16YKR_wk_H",
        "outputId": "d86bcd2c-99d6-4c4c-d797-ba7366390577"
      },
      "outputs": [
        {
          "data": {
            "text/plain": [
              "(array([0., 0., 0., ..., 0., 0., 0.]),\n",
              " array([1., 1., 1., ..., 1., 1., 1.]),\n",
              " array([2, 2, 2, ..., 2, 2, 2]),\n",
              " array([3, 3, 3, ..., 3, 3, 3]),\n",
              " array([4, 4, 4, ..., 4, 4, 4]))"
            ]
          },
          "execution_count": 25,
          "metadata": {},
          "output_type": "execute_result"
        }
      ],
      "source": [
        "y_1, y_2, y_3,y_4,y_5"
      ]
    },
    {
      "cell_type": "code",
      "execution_count": 26,
      "metadata": {
        "colab": {
          "base_uri": "https://localhost:8080/"
        },
        "id": "HZKGS8MawlBT",
        "outputId": "d3f1137a-497c-42ea-9b82-4b2c85b9fcef"
      },
      "outputs": [
        {
          "name": "stdout",
          "output_type": "stream",
          "text": [
            "(2089952, 80)\n",
            "(2089952, 1)\n"
          ]
        }
      ],
      "source": [
        "print(X.shape)\n",
        "print(y.shape)"
      ]
    },
    {
      "cell_type": "code",
      "execution_count": 27,
      "metadata": {
        "colab": {
          "base_uri": "https://localhost:8080/"
        },
        "id": "45jC4KxMwlDN",
        "outputId": "4aa07b47-40ff-4b4c-abdf-d6cd23c27f70"
      },
      "outputs": [
        {
          "data": {
            "text/plain": [
              "array([0, 0, 0, 0, 0, 0, 0, 0, 0, 0, 0, 0, 0, 0, 0, 0, 0, 0, 0, 0, 0, 0,\n",
              "       0, 0, 0, 0, 0, 0, 0, 0, 0, 0, 0, 0, 0, 0, 0, 0, 0, 0, 0, 0, 0, 0,\n",
              "       0, 0, 0, 0, 0, 0, 0, 0, 0, 0, 0, 0, 0, 0, 0, 0, 0, 0, 0, 0, 0, 0,\n",
              "       0, 0, 0, 0, 0, 0, 0, 0, 0, 0, 0, 0, 0, 0])"
            ]
          },
          "execution_count": 27,
          "metadata": {},
          "output_type": "execute_result"
        }
      ],
      "source": [
        "# checking if there are some null values in data\n",
        "X.isnull().sum().to_numpy()"
      ]
    },
    {
      "cell_type": "markdown",
      "metadata": {
        "id": "5VpiMSZnwuSL"
      },
      "source": [
        "The output of above cell shows that there are no null values in our data, and the data can now be used for model fitting. We have two types of datasets, normal and abnormal, and they'll be used for model fitting."
      ]
    },
    {
      "cell_type": "markdown",
      "metadata": {
        "id": "mCW8CrxMepv9"
      },
      "source": [
        "# Data Argumentation\n",
        "To avoid biasing in data, we need to use data argumentation on it so that we can remove bias from data and make equal distributions."
      ]
    },
    {
      "cell_type": "code",
      "execution_count": 28,
      "metadata": {
        "id": "aIeHM3rjfP_Y"
      },
      "outputs": [],
      "source": [
        "from sklearn.model_selection import train_test_split\n",
        "from sklearn.preprocessing import MinMaxScaler\n",
        "from sklearn.ensemble import RandomForestClassifier\n",
        "from sklearn.preprocessing import LabelEncoder\n",
        "from sklearn.neural_network import MLPClassifier\n",
        "import keras\n",
        "from keras.layers import Conv2D, Conv1D, MaxPooling2D, MaxPooling1D, Flatten, BatchNormalization, Dense\n",
        "from keras.utils.np_utils import to_categorical\n",
        "from keras.models import Sequential\n",
        "from keras.callbacks import CSVLogger, ModelCheckpoint"
      ]
    },
    {
      "cell_type": "code",
      "execution_count": 29,
      "metadata": {
        "id": "CB-dTquVwlFd"
      },
      "outputs": [],
      "source": [
        "from sklearn.utils import resample\n",
        "\n",
        "data_1_resample = resample(data_1, n_samples=20000, \n",
        "                           random_state=123, replace=True)\n",
        "data_2_resample = resample(data_2, n_samples=20000, \n",
        "                           random_state=123, replace=True)\n",
        "data_3_resample = resample(data_3, n_samples=20000, \n",
        "                           random_state=123, replace=True)\n",
        "data_4_resample = resample(data_4, n_samples=20000, \n",
        "                           random_state=123, replace=True)\n",
        "data_5_resample = resample(data_5, n_samples=20000, \n",
        "                           random_state=123, replace=True)"
      ]
    },
    {
      "cell_type": "code",
      "execution_count": 30,
      "metadata": {
        "colab": {
          "base_uri": "https://localhost:8080/",
          "height": 272
        },
        "id": "y0lqpj6qe4LL",
        "outputId": "abcace93-0efa-4335-8644-25b08d8440e5"
      },
      "outputs": [
        {
          "data": {
            "text/html": [
              "\n",
              "  <div id=\"df-84b79367-7229-45af-855b-2fd1031ca2d0\">\n",
              "    <div class=\"colab-df-container\">\n",
              "      <div>\n",
              "<style scoped>\n",
              "    .dataframe tbody tr th:only-of-type {\n",
              "        vertical-align: middle;\n",
              "    }\n",
              "\n",
              "    .dataframe tbody tr th {\n",
              "        vertical-align: top;\n",
              "    }\n",
              "\n",
              "    .dataframe thead th {\n",
              "        text-align: right;\n",
              "    }\n",
              "</style>\n",
              "<table border=\"1\" class=\"dataframe\">\n",
              "  <thead>\n",
              "    <tr style=\"text-align: right;\">\n",
              "      <th></th>\n",
              "      <th>Dst Port</th>\n",
              "      <th>Protocol</th>\n",
              "      <th>Timestamp</th>\n",
              "      <th>Flow Duration</th>\n",
              "      <th>Tot Fwd Pkts</th>\n",
              "      <th>Tot Bwd Pkts</th>\n",
              "      <th>TotLen Fwd Pkts</th>\n",
              "      <th>TotLen Bwd Pkts</th>\n",
              "      <th>Fwd Pkt Len Max</th>\n",
              "      <th>Fwd Pkt Len Min</th>\n",
              "      <th>...</th>\n",
              "      <th>Fwd Seg Size Min</th>\n",
              "      <th>Active Mean</th>\n",
              "      <th>Active Std</th>\n",
              "      <th>Active Max</th>\n",
              "      <th>Active Min</th>\n",
              "      <th>Idle Mean</th>\n",
              "      <th>Idle Std</th>\n",
              "      <th>Idle Max</th>\n",
              "      <th>Idle Min</th>\n",
              "      <th>Label</th>\n",
              "    </tr>\n",
              "  </thead>\n",
              "  <tbody>\n",
              "    <tr>\n",
              "      <th>1209865</th>\n",
              "      <td>53</td>\n",
              "      <td>17</td>\n",
              "      <td>15/02/2018 09:24:19</td>\n",
              "      <td>970</td>\n",
              "      <td>1</td>\n",
              "      <td>1</td>\n",
              "      <td>51</td>\n",
              "      <td>112</td>\n",
              "      <td>51</td>\n",
              "      <td>51</td>\n",
              "      <td>...</td>\n",
              "      <td>8</td>\n",
              "      <td>0.0</td>\n",
              "      <td>0.0</td>\n",
              "      <td>0</td>\n",
              "      <td>0</td>\n",
              "      <td>0.0</td>\n",
              "      <td>0.0</td>\n",
              "      <td>0</td>\n",
              "      <td>0</td>\n",
              "      <td>0</td>\n",
              "    </tr>\n",
              "    <tr>\n",
              "      <th>659775</th>\n",
              "      <td>53</td>\n",
              "      <td>17</td>\n",
              "      <td>14/02/2018 03:29:35</td>\n",
              "      <td>79333</td>\n",
              "      <td>2</td>\n",
              "      <td>2</td>\n",
              "      <td>66</td>\n",
              "      <td>254</td>\n",
              "      <td>33</td>\n",
              "      <td>33</td>\n",
              "      <td>...</td>\n",
              "      <td>8</td>\n",
              "      <td>0.0</td>\n",
              "      <td>0.0</td>\n",
              "      <td>0</td>\n",
              "      <td>0</td>\n",
              "      <td>0.0</td>\n",
              "      <td>0.0</td>\n",
              "      <td>0</td>\n",
              "      <td>0</td>\n",
              "      <td>0</td>\n",
              "    </tr>\n",
              "  </tbody>\n",
              "</table>\n",
              "<p>2 rows × 80 columns</p>\n",
              "</div>\n",
              "      <button class=\"colab-df-convert\" onclick=\"convertToInteractive('df-84b79367-7229-45af-855b-2fd1031ca2d0')\"\n",
              "              title=\"Convert this dataframe to an interactive table.\"\n",
              "              style=\"display:none;\">\n",
              "        \n",
              "  <svg xmlns=\"http://www.w3.org/2000/svg\" height=\"24px\"viewBox=\"0 0 24 24\"\n",
              "       width=\"24px\">\n",
              "    <path d=\"M0 0h24v24H0V0z\" fill=\"none\"/>\n",
              "    <path d=\"M18.56 5.44l.94 2.06.94-2.06 2.06-.94-2.06-.94-.94-2.06-.94 2.06-2.06.94zm-11 1L8.5 8.5l.94-2.06 2.06-.94-2.06-.94L8.5 2.5l-.94 2.06-2.06.94zm10 10l.94 2.06.94-2.06 2.06-.94-2.06-.94-.94-2.06-.94 2.06-2.06.94z\"/><path d=\"M17.41 7.96l-1.37-1.37c-.4-.4-.92-.59-1.43-.59-.52 0-1.04.2-1.43.59L10.3 9.45l-7.72 7.72c-.78.78-.78 2.05 0 2.83L4 21.41c.39.39.9.59 1.41.59.51 0 1.02-.2 1.41-.59l7.78-7.78 2.81-2.81c.8-.78.8-2.07 0-2.86zM5.41 20L4 18.59l7.72-7.72 1.47 1.35L5.41 20z\"/>\n",
              "  </svg>\n",
              "      </button>\n",
              "      \n",
              "  <style>\n",
              "    .colab-df-container {\n",
              "      display:flex;\n",
              "      flex-wrap:wrap;\n",
              "      gap: 12px;\n",
              "    }\n",
              "\n",
              "    .colab-df-convert {\n",
              "      background-color: #E8F0FE;\n",
              "      border: none;\n",
              "      border-radius: 50%;\n",
              "      cursor: pointer;\n",
              "      display: none;\n",
              "      fill: #1967D2;\n",
              "      height: 32px;\n",
              "      padding: 0 0 0 0;\n",
              "      width: 32px;\n",
              "    }\n",
              "\n",
              "    .colab-df-convert:hover {\n",
              "      background-color: #E2EBFA;\n",
              "      box-shadow: 0px 1px 2px rgba(60, 64, 67, 0.3), 0px 1px 3px 1px rgba(60, 64, 67, 0.15);\n",
              "      fill: #174EA6;\n",
              "    }\n",
              "\n",
              "    [theme=dark] .colab-df-convert {\n",
              "      background-color: #3B4455;\n",
              "      fill: #D2E3FC;\n",
              "    }\n",
              "\n",
              "    [theme=dark] .colab-df-convert:hover {\n",
              "      background-color: #434B5C;\n",
              "      box-shadow: 0px 1px 3px 1px rgba(0, 0, 0, 0.15);\n",
              "      filter: drop-shadow(0px 1px 2px rgba(0, 0, 0, 0.3));\n",
              "      fill: #FFFFFF;\n",
              "    }\n",
              "  </style>\n",
              "\n",
              "      <script>\n",
              "        const buttonEl =\n",
              "          document.querySelector('#df-84b79367-7229-45af-855b-2fd1031ca2d0 button.colab-df-convert');\n",
              "        buttonEl.style.display =\n",
              "          google.colab.kernel.accessAllowed ? 'block' : 'none';\n",
              "\n",
              "        async function convertToInteractive(key) {\n",
              "          const element = document.querySelector('#df-84b79367-7229-45af-855b-2fd1031ca2d0');\n",
              "          const dataTable =\n",
              "            await google.colab.kernel.invokeFunction('convertToInteractive',\n",
              "                                                     [key], {});\n",
              "          if (!dataTable) return;\n",
              "\n",
              "          const docLinkHtml = 'Like what you see? Visit the ' +\n",
              "            '<a target=\"_blank\" href=https://colab.research.google.com/notebooks/data_table.ipynb>data table notebook</a>'\n",
              "            + ' to learn more about interactive tables.';\n",
              "          element.innerHTML = '';\n",
              "          dataTable['output_type'] = 'display_data';\n",
              "          await google.colab.output.renderOutput(dataTable, element);\n",
              "          const docLink = document.createElement('div');\n",
              "          docLink.innerHTML = docLinkHtml;\n",
              "          element.appendChild(docLink);\n",
              "        }\n",
              "      </script>\n",
              "    </div>\n",
              "  </div>\n",
              "  "
            ],
            "text/plain": [
              "         Dst Port  Protocol            Timestamp  Flow Duration  Tot Fwd Pkts  \\\n",
              "1209865        53        17  15/02/2018 09:24:19            970             1   \n",
              "659775         53        17  14/02/2018 03:29:35          79333             2   \n",
              "\n",
              "         Tot Bwd Pkts  TotLen Fwd Pkts  TotLen Bwd Pkts  Fwd Pkt Len Max  \\\n",
              "1209865             1               51              112               51   \n",
              "659775              2               66              254               33   \n",
              "\n",
              "         Fwd Pkt Len Min  ...  Fwd Seg Size Min  Active Mean  Active Std  \\\n",
              "1209865               51  ...                 8          0.0         0.0   \n",
              "659775                33  ...                 8          0.0         0.0   \n",
              "\n",
              "         Active Max  Active Min  Idle Mean  Idle Std  Idle Max  Idle Min  \\\n",
              "1209865           0           0        0.0       0.0         0         0   \n",
              "659775            0           0        0.0       0.0         0         0   \n",
              "\n",
              "         Label  \n",
              "1209865      0  \n",
              "659775       0  \n",
              "\n",
              "[2 rows x 80 columns]"
            ]
          },
          "execution_count": 30,
          "metadata": {},
          "output_type": "execute_result"
        }
      ],
      "source": [
        "train_dataset = pd.concat([data_1_resample, data_2_resample, data_3_resample, data_4_resample, data_5_resample])\n",
        "train_dataset.head(2)"
      ]
    },
    {
      "cell_type": "code",
      "execution_count": 31,
      "metadata": {
        "colab": {
          "base_uri": "https://localhost:8080/",
          "height": 692
        },
        "id": "ied_kBkJe7Kl",
        "outputId": "b8b93658-0dbd-4c7e-feff-7c6b6dd9956e"
      },
      "outputs": [
        {
          "data": {
            "text/plain": [
              "<matplotlib.patches.Circle at 0x7f67515d5d30>"
            ]
          },
          "execution_count": 31,
          "metadata": {},
          "output_type": "execute_result"
        },
        {
          "data": {
            "image/png": "[encoded data removed]",
            "text/plain": [
              "<Figure size 1000x800 with 1 Axes>"
            ]
          },
          "metadata": {},
          "output_type": "display_data"
        }
      ],
      "source": [
        "# viewing the distribution of intrusion attacks in our dataset \n",
        "plt.figure(figsize=(10, 8))\n",
        "circle = plt.Circle((0, 0), 0.7, color='white')\n",
        "plt.title('Intrusion Attack Type Distribution')\n",
        "plt.pie(train_dataset['Label'].value_counts(), labels=['Benign','Dos-GoldenEye','Dos-Slowloris', 'BF-FTP', 'BF-SSH'], colors=['blue', 'magenta', 'cyan','red','yellow'])\n",
        "p = plt.gcf()\n",
        "p.gca().add_artist(circle)"
      ]
    },
    {
      "cell_type": "markdown",
      "metadata": {
        "id": "ZYNeCPy0fdv1"
      },
      "source": [
        "# Making X & Y Variables (CNN)"
      ]
    },
    {
      "cell_type": "code",
      "execution_count": 32,
      "metadata": {
        "id": "PO-wsTVGffgU"
      },
      "outputs": [],
      "source": [
        "test_dataset = train_dataset.sample(frac=0.1)\n",
        "\n",
        "# get the indices of the rows in the test dataset\n",
        "test_indices = test_dataset.index\n",
        "\n",
        "# drop the rows corresponding to the test dataset from the train dataset\n",
        "train_dataset = train_dataset.drop(test_indices)"
      ]
    },
    {
      "cell_type": "code",
      "execution_count": 33,
      "metadata": {
        "colab": {
          "base_uri": "https://localhost:8080/"
        },
        "id": "cLjUzx36mUMQ",
        "outputId": "c4263a31-1286-42aa-a265-b17298a4c92b"
      },
      "outputs": [
        {
          "data": {
            "text/plain": [
              "(array([0, 1, 2, 3, 4]), array([4, 2, 3, 1, 0]))"
            ]
          },
          "execution_count": 33,
          "metadata": {},
          "output_type": "execute_result"
        }
      ],
      "source": [
        "target_train = train_dataset['Label']\n",
        "target_test = test_dataset['Label']\n",
        "target_train.unique(), target_test.unique()"
      ]
    },
    {
      "cell_type": "code",
      "execution_count": 34,
      "metadata": {
        "id": "Iaydq0jbmWTK"
      },
      "outputs": [],
      "source": [
        "y_train = to_categorical(target_train, num_classes=5)\n",
        "y_test = to_categorical(target_test, num_classes=5)"
      ]
    },
    {
      "cell_type": "markdown",
      "metadata": {
        "id": "3EF5eVPcfm13"
      },
      "source": [
        "# Data Splicing\n",
        "This stage involves the data split into train & test sets. The training data will be used for training our model, and the testing data will be used to check the performance of model on unseen dataset. We're using a split of 80-20, i.e., 80% data to be used for training & 20% to be used for testing purpose."
      ]
    },
    {
      "cell_type": "code",
      "execution_count": 35,
      "metadata": {
        "id": "cO2OHzmbftFF"
      },
      "outputs": [],
      "source": [
        "train_dataset = train_dataset.drop(columns = [\"Timestamp\", \"Protocol\",\"PSH Flag Cnt\",\"Init Fwd Win Byts\",\"Flow Byts/s\",\"Flow Pkts/s\", \"Label\"], axis=1)\n",
        "test_dataset = test_dataset.drop(columns = [\"Timestamp\", \"Protocol\",\"PSH Flag Cnt\",\"Init Fwd Win Byts\",\"Flow Byts/s\",\"Flow Pkts/s\", \"Label\"], axis=1)\n",
        "\n",
        "\n",
        "# making train & test splits\n",
        "X_train = train_dataset.iloc[:, :-1].values\n",
        "X_test = test_dataset.iloc[:, :-1].values\n"
      ]
    },
    {
      "cell_type": "code",
      "execution_count": 36,
      "metadata": {
        "colab": {
          "base_uri": "https://localhost:8080/"
        },
        "id": "v-ktIw5snpH6",
        "outputId": "444b9c4c-5f8b-4aa7-cb8e-78890c703691"
      },
      "outputs": [
        {
          "data": {
            "text/plain": [
              "(array([[5.30000e+01, 9.70000e+02, 1.00000e+00, ..., 0.00000e+00,\n",
              "         0.00000e+00, 0.00000e+00],\n",
              "        [5.30000e+01, 7.93330e+04, 2.00000e+00, ..., 0.00000e+00,\n",
              "         0.00000e+00, 0.00000e+00],\n",
              "        [4.43000e+02, 6.21591e+05, 9.00000e+00, ..., 0.00000e+00,\n",
              "         0.00000e+00, 0.00000e+00],\n",
              "        ...,\n",
              "        [2.20000e+01, 7.00000e+00, 1.00000e+00, ..., 0.00000e+00,\n",
              "         0.00000e+00, 0.00000e+00],\n",
              "        [2.20000e+01, 2.95002e+05, 2.10000e+01, ..., 0.00000e+00,\n",
              "         0.00000e+00, 0.00000e+00],\n",
              "        [2.20000e+01, 7.00000e+00, 1.00000e+00, ..., 0.00000e+00,\n",
              "         0.00000e+00, 0.00000e+00]]),\n",
              " array([[2.20000000e+01, 3.52503000e+05, 2.20000000e+01, ...,\n",
              "         0.00000000e+00, 0.00000000e+00, 0.00000000e+00],\n",
              "        [8.00000000e+01, 1.06590054e+08, 1.50000000e+01, ...,\n",
              "         2.35705725e+07, 2.06756769e+07, 5.32477810e+07],\n",
              "        [2.10000000e+01, 1.00000000e+00, 1.00000000e+00, ...,\n",
              "         0.00000000e+00, 0.00000000e+00, 0.00000000e+00],\n",
              "        ...,\n",
              "        [2.10000000e+01, 1.30000000e+01, 1.00000000e+00, ...,\n",
              "         0.00000000e+00, 0.00000000e+00, 0.00000000e+00],\n",
              "        [2.20000000e+01, 3.82456000e+05, 2.20000000e+01, ...,\n",
              "         0.00000000e+00, 0.00000000e+00, 0.00000000e+00],\n",
              "        [8.00000000e+01, 5.01237900e+06, 4.00000000e+00, ...,\n",
              "         0.00000000e+00, 0.00000000e+00, 0.00000000e+00]]))"
            ]
          },
          "execution_count": 36,
          "metadata": {},
          "output_type": "execute_result"
        }
      ],
      "source": [
        "X_train,X_test"
      ]
    },
    {
      "cell_type": "code",
      "execution_count": 37,
      "metadata": {
        "colab": {
          "base_uri": "https://localhost:8080/"
        },
        "id": "L_Nlq6XsfydJ",
        "outputId": "7c578d5c-311e-4640-fba2-63ccea48fca4"
      },
      "outputs": [
        {
          "name": "stdout",
          "output_type": "stream",
          "text": [
            "(85718, 72)\n",
            "(10000, 72)\n",
            "(85718, 5)\n",
            "(10000, 5)\n"
          ]
        }
      ],
      "source": [
        "print(X_train.shape)\n",
        "print(X_test.shape)\n",
        "print(y_train.shape)\n",
        "print(y_test.shape)"
      ]
    },
    {
      "cell_type": "code",
      "execution_count": 38,
      "metadata": {
        "colab": {
          "base_uri": "https://localhost:8080/"
        },
        "id": "uyMJbo6Rfyfq",
        "outputId": "008636b2-531c-4548-e0ef-2198d15541bf"
      },
      "outputs": [
        {
          "data": {
            "text/plain": [
              "((85718, 72, 1), (10000, 72, 1))"
            ]
          },
          "execution_count": 38,
          "metadata": {},
          "output_type": "execute_result"
        }
      ],
      "source": [
        "# reshape the data for CNN\n",
        "X_train = X_train.reshape(len(X_train), X_train.shape[1], 1)\n",
        "X_test = X_test.reshape(len(X_test), X_test.shape[1], 1)\n",
        "X_train.shape, X_test.shape"
      ]
    },
    {
      "cell_type": "code",
      "execution_count": 39,
      "metadata": {
        "id": "QKfcyp8tf82n"
      },
      "outputs": [],
      "source": [
        "# making the deep learning function\n",
        "def model():\n",
        "    model = Sequential()\n",
        "    model.add(Conv1D(filters=64, kernel_size=6, activation='relu', \n",
        "                    padding='same', input_shape=(72, 1)))\n",
        "    model.add(BatchNormalization())\n",
        "    \n",
        "    # adding a pooling layer\n",
        "    model.add(MaxPooling1D(pool_size=(3), strides=2, padding='same'))\n",
        "    \n",
        "    model.add(Conv1D(filters=64, kernel_size=6, activation='relu', \n",
        "                    padding='same', input_shape=(72, 1)))\n",
        "    model.add(BatchNormalization())\n",
        "    model.add(MaxPooling1D(pool_size=(3), strides=2, padding='same'))\n",
        "    \n",
        "    model.add(Conv1D(filters=64, kernel_size=6, activation='relu', \n",
        "                    padding='same', input_shape=(72, 1)))\n",
        "    model.add(BatchNormalization())\n",
        "    model.add(MaxPooling1D(pool_size=(3), strides=2, padding='same'))\n",
        "    \n",
        "    model.add(Flatten())\n",
        "    model.add(Dense(64, activation='relu'))\n",
        "    model.add(Dense(64, activation='relu'))\n",
        "    model.add(Dense(5, activation='softmax'))\n",
        "    \n",
        "    model.compile(loss='categorical_crossentropy', optimizer='adam', metrics=['accuracy'])\n",
        "    return model"
      ]
    },
    {
      "cell_type": "code",
      "execution_count": 40,
      "metadata": {
        "colab": {
          "base_uri": "https://localhost:8080/"
        },
        "id": "3JeD5EOtf84x",
        "outputId": "2fa1dbab-0e7e-4268-caaa-7c21f3f1d962"
      },
      "outputs": [
        {
          "name": "stdout",
          "output_type": "stream",
          "text": [
            "Model: \"sequential\"\n",
            "_________________________________________________________________\n",
            " Layer (type)                Output Shape              Param #   \n",
            "=================================================================\n",
            " conv1d (Conv1D)             (None, 72, 64)            448       \n",
            "                                                                 \n",
            " batch_normalization (BatchN  (None, 72, 64)           256       \n",
            " ormalization)                                                   \n",
            "                                                                 \n",
            " max_pooling1d (MaxPooling1D  (None, 36, 64)           0         \n",
            " )                                                               \n",
            "                                                                 \n",
            " conv1d_1 (Conv1D)           (None, 36, 64)            24640     \n",
            "                                                                 \n",
            " batch_normalization_1 (Batc  (None, 36, 64)           256       \n",
            " hNormalization)                                                 \n",
            "                                                                 \n",
            " max_pooling1d_1 (MaxPooling  (None, 18, 64)           0         \n",
            " 1D)                                                             \n",
            "                                                                 \n",
            " conv1d_2 (Conv1D)           (None, 18, 64)            24640     \n",
            "                                                                 \n",
            " batch_normalization_2 (Batc  (None, 18, 64)           256       \n",
            " hNormalization)                                                 \n",
            "                                                                 \n",
            " max_pooling1d_2 (MaxPooling  (None, 9, 64)            0         \n",
            " 1D)                                                             \n",
            "                                                                 \n",
            " flatten (Flatten)           (None, 576)               0         \n",
            "                                                                 \n",
            " dense (Dense)               (None, 64)                36928     \n",
            "                                                                 \n",
            " dense_1 (Dense)             (None, 64)                4160      \n",
            "                                                                 \n",
            " dense_2 (Dense)             (None, 5)                 325       \n",
            "                                                                 \n",
            "=================================================================\n",
            "Total params: 91,909\n",
            "Trainable params: 91,525\n",
            "Non-trainable params: 384\n",
            "_________________________________________________________________\n"
          ]
        }
      ],
      "source": [
        "model = model()\n",
        "model.summary()"
      ]
    },
    {
      "cell_type": "code",
      "execution_count": 41,
      "metadata": {
        "colab": {
          "base_uri": "https://localhost:8080/"
        },
        "id": "5n7juEI0gFqS",
        "outputId": "56558b3e-9eb2-4b7d-a14b-c019f2ba3fdb"
      },
      "outputs": [
        {
          "name": "stdout",
          "output_type": "stream",
          "text": [
            "Epoch 1/30\n",
            "2679/2679 [==============================] - 44s 9ms/step - loss: 0.1198 - accuracy: 0.9600 - val_loss: 0.0403 - val_accuracy: 0.9901\n",
            "Epoch 2/30\n",
            "2679/2679 [==============================] - 23s 9ms/step - loss: 0.0501 - accuracy: 0.9856 - val_loss: 0.0324 - val_accuracy: 0.9907\n",
            "Epoch 3/30\n",
            "2679/2679 [==============================] - 23s 8ms/step - loss: 0.0415 - accuracy: 0.9879 - val_loss: 0.0258 - val_accuracy: 0.9914\n",
            "Epoch 4/30\n",
            "2679/2679 [==============================] - 22s 8ms/step - loss: 0.0319 - accuracy: 0.9908 - val_loss: 0.0494 - val_accuracy: 0.9851\n",
            "Epoch 5/30\n",
            "2679/2679 [==============================] - 21s 8ms/step - loss: 0.0285 - accuracy: 0.9917 - val_loss: 7.6837 - val_accuracy: 0.4932\n",
            "Epoch 6/30\n",
            "2679/2679 [==============================] - 24s 9ms/step - loss: 0.0239 - accuracy: 0.9934 - val_loss: 0.0819 - val_accuracy: 0.9735\n",
            "Epoch 7/30\n",
            "2679/2679 [==============================] - 20s 8ms/step - loss: 0.0329 - accuracy: 0.9904 - val_loss: 0.2147 - val_accuracy: 0.9508\n",
            "Epoch 8/30\n",
            "2679/2679 [==============================] - 25s 9ms/step - loss: 0.0715 - accuracy: 0.9797 - val_loss: 0.7751 - val_accuracy: 0.7631\n",
            "Epoch 9/30\n",
            "2679/2679 [==============================] - 22s 8ms/step - loss: 0.0189 - accuracy: 0.9951 - val_loss: 0.2199 - val_accuracy: 0.9566\n",
            "Epoch 10/30\n",
            "2679/2679 [==============================] - 23s 9ms/step - loss: 0.0151 - accuracy: 0.9963 - val_loss: 0.0218 - val_accuracy: 0.9938\n",
            "Epoch 11/30\n",
            "2679/2679 [==============================] - 23s 9ms/step - loss: 0.0146 - accuracy: 0.9965 - val_loss: 0.0078 - val_accuracy: 0.9982\n",
            "Epoch 12/30\n",
            "2679/2679 [==============================] - 22s 8ms/step - loss: 0.0130 - accuracy: 0.9970 - val_loss: 0.0070 - val_accuracy: 0.9984\n",
            "Epoch 13/30\n",
            "2679/2679 [==============================] - 21s 8ms/step - loss: 0.0133 - accuracy: 0.9968 - val_loss: 0.0057 - val_accuracy: 0.9984\n",
            "Epoch 14/30\n",
            "2679/2679 [==============================] - 22s 8ms/step - loss: 0.0132 - accuracy: 0.9969 - val_loss: 0.0079 - val_accuracy: 0.9976\n",
            "Epoch 15/30\n",
            "2679/2679 [==============================] - 23s 9ms/step - loss: 0.0110 - accuracy: 0.9973 - val_loss: 0.0080 - val_accuracy: 0.9974\n",
            "Epoch 16/30\n",
            "2679/2679 [==============================] - 21s 8ms/step - loss: 0.0111 - accuracy: 0.9974 - val_loss: 0.0064 - val_accuracy: 0.9983\n",
            "Epoch 17/30\n",
            "2679/2679 [==============================] - 22s 8ms/step - loss: 0.0111 - accuracy: 0.9974 - val_loss: 0.0070 - val_accuracy: 0.9985\n",
            "Epoch 18/30\n",
            "2679/2679 [==============================] - 21s 8ms/step - loss: 0.0102 - accuracy: 0.9977 - val_loss: 0.0199 - val_accuracy: 0.9973\n",
            "Epoch 19/30\n",
            "2679/2679 [==============================] - 22s 8ms/step - loss: 0.0115 - accuracy: 0.9974 - val_loss: 0.0058 - val_accuracy: 0.9987\n",
            "Epoch 20/30\n",
            "2679/2679 [==============================] - 22s 8ms/step - loss: 0.0109 - accuracy: 0.9974 - val_loss: 0.0063 - val_accuracy: 0.9984\n",
            "Epoch 21/30\n",
            "2679/2679 [==============================] - 21s 8ms/step - loss: 0.0088 - accuracy: 0.9981 - val_loss: 0.0079 - val_accuracy: 0.9985\n",
            "Epoch 22/30\n",
            "2679/2679 [==============================] - 22s 8ms/step - loss: 0.0086 - accuracy: 0.9982 - val_loss: 0.0050 - val_accuracy: 0.9989\n",
            "Epoch 23/30\n",
            "2679/2679 [==============================] - 21s 8ms/step - loss: 0.0089 - accuracy: 0.9980 - val_loss: 0.9039 - val_accuracy: 0.7731\n",
            "Epoch 24/30\n",
            "2679/2679 [==============================] - 22s 8ms/step - loss: 0.0151 - accuracy: 0.9974 - val_loss: 0.0118 - val_accuracy: 0.9964\n",
            "Epoch 25/30\n",
            "2679/2679 [==============================] - 22s 8ms/step - loss: 0.0090 - accuracy: 0.9979 - val_loss: 0.0708 - val_accuracy: 0.9814\n",
            "Epoch 26/30\n",
            "2679/2679 [==============================] - 21s 8ms/step - loss: 0.0090 - accuracy: 0.9980 - val_loss: 0.0064 - val_accuracy: 0.9989\n",
            "Epoch 27/30\n",
            "2679/2679 [==============================] - 22s 8ms/step - loss: 0.0081 - accuracy: 0.9982 - val_loss: 0.0063 - val_accuracy: 0.9984\n",
            "Epoch 28/30\n",
            "2679/2679 [==============================] - 21s 8ms/step - loss: 0.0110 - accuracy: 0.9977 - val_loss: 0.0053 - val_accuracy: 0.9988\n",
            "Epoch 29/30\n",
            "2679/2679 [==============================] - 22s 8ms/step - loss: 0.0131 - accuracy: 0.9970 - val_loss: 0.0617 - val_accuracy: 0.9809\n",
            "Epoch 30/30\n",
            "2679/2679 [==============================] - 21s 8ms/step - loss: 0.0186 - accuracy: 0.9950 - val_loss: 0.0286 - val_accuracy: 0.9946\n"
          ]
        }
      ],
      "source": [
        "logger = CSVLogger('logs.csv', append=True)\n",
        "his = model.fit(X_train, y_train, epochs=30, batch_size=32, \n",
        "          validation_data=(X_test, y_test), callbacks=[logger])"
      ]
    },
    {
      "cell_type": "markdown",
      "metadata": {
        "id": "OLmzb2yPoKJ8"
      },
      "source": [
        "**Visualization of Results (CNN)**"
      ]
    },
    {
      "cell_type": "code",
      "execution_count": 42,
      "metadata": {
        "colab": {
          "base_uri": "https://localhost:8080/"
        },
        "id": "4WtRNvRIoNF2",
        "outputId": "8cdc58cb-c5ca-449d-9be2-4d0b156bd424"
      },
      "outputs": [
        {
          "name": "stdout",
          "output_type": "stream",
          "text": [
            "313/313 [==============================] - 1s 4ms/step - loss: 0.0286 - accuracy: 0.9946\n",
            "accuracy: 99.46%\n"
          ]
        }
      ],
      "source": [
        "# check the model performance on test data\n",
        "scores = model.evaluate(X_test, y_test)\n",
        "print(\"%s: %.2f%%\" % (model.metrics_names[1], scores[1] * 100))"
      ]
    },
    {
      "cell_type": "code",
      "execution_count": 43,
      "metadata": {
        "colab": {
          "base_uri": "https://localhost:8080/"
        },
        "id": "v9LQ4b5eoTVo",
        "outputId": "b66ee801-2b78-45cc-8f64-67ba1a4e2f24"
      },
      "outputs": [
        {
          "data": {
            "text/plain": [
              "dict_keys(['loss', 'accuracy', 'val_loss', 'val_accuracy'])"
            ]
          },
          "execution_count": 43,
          "metadata": {},
          "output_type": "execute_result"
        }
      ],
      "source": [
        "# check history of model\n",
        "history = his.history\n",
        "history.keys()"
      ]
    },
    {
      "cell_type": "code",
      "execution_count": 44,
      "metadata": {
        "colab": {
          "base_uri": "https://localhost:8080/",
          "height": 992
        },
        "id": "fgjLWMEwoTYJ",
        "outputId": "b0528434-f667-4b6d-eac5-f998fb31fd06"
      },
      "outputs": [
        {
          "data": {
            "text/plain": [
              "<matplotlib.legend.Legend at 0x7f66e444e610>"
            ]
          },
          "execution_count": 44,
          "metadata": {},
          "output_type": "execute_result"
        },
        {
          "data": {
            "image/png": "[encoded data removed]",
            "text/plain": [
              "<Figure size 1000x500 with 1 Axes>"
            ]
          },
          "metadata": {},
          "output_type": "display_data"
        },
        {
          "data": {
            "image/png": "[encoded data removed]",
            "text/plain": [
              "<Figure size 1000x500 with 1 Axes>"
            ]
          },
          "metadata": {},
          "output_type": "display_data"
        }
      ],
      "source": [
        "epochs = range(1, len(history['loss']) + 1)\n",
        "acc = history['accuracy']\n",
        "loss = history['loss']\n",
        "val_acc = history['val_accuracy']\n",
        "val_loss = history['val_loss']\n",
        "\n",
        "# visualize training and val accuracy\n",
        "plt.figure(figsize=(10, 5))\n",
        "plt.title('Training and Validation Accuracy (CNN)')\n",
        "plt.xlabel('Epochs')\n",
        "plt.ylabel('Accuracy')\n",
        "plt.plot(epochs, acc, label='accuracy')\n",
        "plt.plot(epochs, val_acc, label='val_acc')\n",
        "plt.legend()\n",
        "\n",
        "# visualize train and val loss\n",
        "plt.figure(figsize=(10, 5))\n",
        "plt.title('Training and Validation Loss(CNN)')\n",
        "plt.xlabel('Epochs')\n",
        "plt.ylabel('Loss')\n",
        "plt.plot(epochs, loss, label='loss', color='g')\n",
        "plt.plot(epochs, val_loss, label='val_loss', color='r')\n",
        "plt.legend()"
      ]
    },
    {
      "cell_type": "code",
      "execution_count": 45,
      "metadata": {
        "colab": {
          "base_uri": "https://localhost:8080/"
        },
        "id": "YIo_KokZ0RyK",
        "outputId": "94543e42-7db0-4caf-e2e8-7b28428f8b26"
      },
      "outputs": [
        {
          "name": "stdout",
          "output_type": "stream",
          "text": [
            "313/313 [==============================] - 1s 2ms/step\n"
          ]
        }
      ],
      "source": [
        "Y_pred = model.predict(X_test)"
      ]
    },
    {
      "cell_type": "code",
      "execution_count": 46,
      "metadata": {
        "id": "gDT_-9tg0R0Y"
      },
      "outputs": [],
      "source": [
        "y_pred = np.argmax(Y_pred,axis=1)"
      ]
    },
    {
      "cell_type": "code",
      "execution_count": 74,
      "metadata": {
        "colab": {
          "base_uri": "https://localhost:8080/"
        },
        "id": "f4NS4tl0eJ7g",
        "outputId": "1b25e51d-f871-4f47-e733-404a02bd1c16"
      },
      "outputs": [
        {
          "data": {
            "text/plain": [
              "array([[1., 0., 0., 0., 0.],\n",
              "       [1., 0., 0., 0., 0.],\n",
              "       [1., 0., 0., 0., 0.],\n",
              "       ...,\n",
              "       [0., 0., 0., 0., 1.],\n",
              "       [0., 0., 0., 0., 1.],\n",
              "       [0., 0., 0., 0., 1.]], dtype=float32)"
            ]
          },
          "execution_count": 74,
          "metadata": {},
          "output_type": "execute_result"
        }
      ],
      "source": [
        "y_train"
      ]
    },
    {
      "cell_type": "code",
      "execution_count": 48,
      "metadata": {
        "colab": {
          "base_uri": "https://localhost:8080/"
        },
        "id": "XvCQhuSyUKWl",
        "outputId": "d0c3e22d-1c57-4191-a60d-2453bebdf222"
      },
      "outputs": [
        {
          "data": {
            "text/plain": [
              "(10000, 5)"
            ]
          },
          "execution_count": 48,
          "metadata": {},
          "output_type": "execute_result"
        }
      ],
      "source": [
        "from sklearn.preprocessing import LabelBinarizer\n",
        "\n",
        "label_binarizer = LabelBinarizer().fit(y_train)\n",
        "y_onehot_test = label_binarizer.transform(y_test)\n",
        "y_onehot_test.shape  # (n_samples, n_classes)"
      ]
    },
    {
      "cell_type": "code",
      "execution_count": 55,
      "metadata": {
        "colab": {
          "base_uri": "https://localhost:8080/"
        },
        "id": "wDU62iZKW2ux",
        "outputId": "84fabd18-97bb-4511-e334-b30159965a2c"
      },
      "outputs": [
        {
          "name": "stdout",
          "output_type": "stream",
          "text": [
            "313/313 [==============================] - 1s 2ms/step\n"
          ]
        }
      ],
      "source": [
        "import tensorflow as tf\n",
        "def predict_prob(predictions):\n",
        "    return tf.concat([1 - predictions, predictions], axis=1)\n",
        "\n",
        "y_score = predict_prob(model.predict(X_test))"
      ]
    },
    {
      "cell_type": "code",
      "execution_count": 67,
      "metadata": {
        "id": "FdPQ8UQzb3uP"
      },
      "outputs": [],
      "source": [
        "y_score = np.argmax(y_score,axis=1)"
      ]
    },
    {
      "cell_type": "code",
      "execution_count": 1,
      "metadata": {
        "colab": {
          "base_uri": "https://localhost:8080/",
          "height": 165
        },
        "id": "HNw3NdVBeNmb",
        "outputId": "775e0b03-9dc5-46e5-a2f1-3b457aabe256"
      },
      "outputs": [
        {
          "ename": "NameError",
          "evalue": "ignored",
          "output_type": "error",
          "traceback": [
            "\u001b[0;31m---------------------------------------------------------------------------\u001b[0m",
            "\u001b[0;31mNameError\u001b[0m                                 Traceback (most recent call last)",
            "\u001b[0;32m<ipython-input-1-3400f3d5211e>\u001b[0m in \u001b[0;36m<cell line: 1>\u001b[0;34m()\u001b[0m\n\u001b[0;32m----> 1\u001b[0;31m \u001b[0mX_train_new\u001b[0m \u001b[0;34m=\u001b[0m \u001b[0mnp\u001b[0m\u001b[0;34m.\u001b[0m\u001b[0margmax\u001b[0m\u001b[0;34m(\u001b[0m\u001b[0mX_train\u001b[0m\u001b[0;34m,\u001b[0m\u001b[0maxis\u001b[0m\u001b[0;34m=\u001b[0m\u001b[0;36m1\u001b[0m\u001b[0;34m)\u001b[0m\u001b[0;34m\u001b[0m\u001b[0;34m\u001b[0m\u001b[0m\n\u001b[0m",
            "\u001b[0;31mNameError\u001b[0m: name 'np' is not defined"
          ]
        }
      ],
      "source": [
        "X_train_new = np.argmax(X_train,axis=1)"
      ]
    },
    {
      "cell_type": "code",
      "execution_count": 73,
      "metadata": {
        "colab": {
          "base_uri": "https://localhost:8080/",
          "height": 1000
        },
        "id": "oQZ_c6nkbMUv",
        "outputId": "cc29564d-c466-4048-e715-aa3f8b3968e0"
      },
      "outputs": [
        {
          "ename": "ValueError",
          "evalue": "ignored",
          "output_type": "error",
          "traceback": [
            "\u001b[0;31m---------------------------------------------------------------------------\u001b[0m",
            "\u001b[0;31mValueError\u001b[0m                                Traceback (most recent call last)",
            "\u001b[0;32m<ipython-input-73-03c1f72665fd>\u001b[0m in \u001b[0;36m<cell line: 1>\u001b[0;34m()\u001b[0m\n\u001b[0;32m----> 1\u001b[0;31m \u001b[0mlabel_binarizer\u001b[0m \u001b[0;34m=\u001b[0m \u001b[0mLabelBinarizer\u001b[0m\u001b[0;34m(\u001b[0m\u001b[0;34m)\u001b[0m\u001b[0;34m.\u001b[0m\u001b[0mfit\u001b[0m\u001b[0;34m(\u001b[0m\u001b[0mX_train\u001b[0m\u001b[0;34m)\u001b[0m\u001b[0;34m\u001b[0m\u001b[0;34m\u001b[0m\u001b[0m\n\u001b[0m\u001b[1;32m      2\u001b[0m \u001b[0my_score\u001b[0m \u001b[0;34m=\u001b[0m \u001b[0mlabel_binarizer\u001b[0m\u001b[0;34m.\u001b[0m\u001b[0mtransform\u001b[0m\u001b[0;34m(\u001b[0m\u001b[0my_score\u001b[0m\u001b[0;34m)\u001b[0m\u001b[0;34m\u001b[0m\u001b[0;34m\u001b[0m\u001b[0m\n\u001b[1;32m      3\u001b[0m \u001b[0my_score\u001b[0m\u001b[0;34m.\u001b[0m\u001b[0mshape\u001b[0m  \u001b[0;31m# (n_samples, n_classes)\u001b[0m\u001b[0;34m\u001b[0m\u001b[0;34m\u001b[0m\u001b[0m\n",
            "\u001b[0;32m/usr/local/lib/python3.9/dist-packages/sklearn/preprocessing/_label.py\u001b[0m in \u001b[0;36mfit\u001b[0;34m(self, y)\u001b[0m\n\u001b[1;32m    309\u001b[0m \u001b[0;34m\u001b[0m\u001b[0m\n\u001b[1;32m    310\u001b[0m         \u001b[0mself\u001b[0m\u001b[0;34m.\u001b[0m\u001b[0msparse_input_\u001b[0m \u001b[0;34m=\u001b[0m \u001b[0msp\u001b[0m\u001b[0;34m.\u001b[0m\u001b[0missparse\u001b[0m\u001b[0;34m(\u001b[0m\u001b[0my\u001b[0m\u001b[0;34m)\u001b[0m\u001b[0;34m\u001b[0m\u001b[0;34m\u001b[0m\u001b[0m\n\u001b[0;32m--> 311\u001b[0;31m         \u001b[0mself\u001b[0m\u001b[0;34m.\u001b[0m\u001b[0mclasses_\u001b[0m \u001b[0;34m=\u001b[0m \u001b[0munique_labels\u001b[0m\u001b[0;34m(\u001b[0m\u001b[0my\u001b[0m\u001b[0;34m)\u001b[0m\u001b[0;34m\u001b[0m\u001b[0;34m\u001b[0m\u001b[0m\n\u001b[0m\u001b[1;32m    312\u001b[0m         \u001b[0;32mreturn\u001b[0m \u001b[0mself\u001b[0m\u001b[0;34m\u001b[0m\u001b[0;34m\u001b[0m\u001b[0m\n\u001b[1;32m    313\u001b[0m \u001b[0;34m\u001b[0m\u001b[0m\n",
            "\u001b[0;32m/usr/local/lib/python3.9/dist-packages/sklearn/utils/multiclass.py\u001b[0m in \u001b[0;36munique_labels\u001b[0;34m(*ys)\u001b[0m\n\u001b[1;32m    105\u001b[0m     \u001b[0m_unique_labels\u001b[0m \u001b[0;34m=\u001b[0m \u001b[0m_FN_UNIQUE_LABELS\u001b[0m\u001b[0;34m.\u001b[0m\u001b[0mget\u001b[0m\u001b[0;34m(\u001b[0m\u001b[0mlabel_type\u001b[0m\u001b[0;34m,\u001b[0m \u001b[0;32mNone\u001b[0m\u001b[0;34m)\u001b[0m\u001b[0;34m\u001b[0m\u001b[0;34m\u001b[0m\u001b[0m\n\u001b[1;32m    106\u001b[0m     \u001b[0;32mif\u001b[0m \u001b[0;32mnot\u001b[0m \u001b[0m_unique_labels\u001b[0m\u001b[0;34m:\u001b[0m\u001b[0;34m\u001b[0m\u001b[0;34m\u001b[0m\u001b[0m\n\u001b[0;32m--> 107\u001b[0;31m         \u001b[0;32mraise\u001b[0m \u001b[0mValueError\u001b[0m\u001b[0;34m(\u001b[0m\u001b[0;34m\"Unknown label type: %s\"\u001b[0m \u001b[0;34m%\u001b[0m \u001b[0mrepr\u001b[0m\u001b[0;34m(\u001b[0m\u001b[0mys\u001b[0m\u001b[0;34m)\u001b[0m\u001b[0;34m)\u001b[0m\u001b[0;34m\u001b[0m\u001b[0;34m\u001b[0m\u001b[0m\n\u001b[0m\u001b[1;32m    108\u001b[0m \u001b[0;34m\u001b[0m\u001b[0m\n\u001b[1;32m    109\u001b[0m     \u001b[0;32mif\u001b[0m \u001b[0mis_array_api\u001b[0m\u001b[0;34m:\u001b[0m\u001b[0;34m\u001b[0m\u001b[0;34m\u001b[0m\u001b[0m\n",
            "\u001b[0;31mValueError\u001b[0m: Unknown label type: (array([[[5.30000e+01],\n        [9.70000e+02],\n        [1.00000e+00],\n        ...,\n        [0.00000e+00],\n        [0.00000e+00],\n        [0.00000e+00]],\n\n       [[5.30000e+01],\n        [7.93330e+04],\n        [2.00000e+00],\n        ...,\n        [0.00000e+00],\n        [0.00000e+00],\n        [0.00000e+00]],\n\n       [[4.43000e+02],\n        [6.21591e+05],\n        [9.00000e+00],\n        ...,\n        [0.00000e+00],\n        [0.00000e+00],\n        [0.00000e+00]],\n\n       ...,\n\n       [[2.20000e+01],\n        [7.00000e+00],\n        [1.00000e+00],\n        ...,\n        [0.00000e+00],\n        [0.00000e+00],\n        [0.00000e+00]],\n\n       [[2.20000e+01],\n        [2.95002e+05],\n        [2.10000e+01],\n        ...,\n        [0.00000e+00],\n        [0.00000e+00],\n        [0.00000e+00]],\n\n       [[2.20000e+01],\n        [7.00000e+00],\n        [1.00000e+00],\n        ...,\n        [0.00000e+00],\n        [0.00000e+00],\n        [0.00000e+00]]]),)"
          ]
        }
      ],
      "source": [
        "label_binarizer = LabelBinarizer().fit(X_train_new)\n",
        "y_score = label_binarizer.transform(y_score)\n",
        "y_score.shape  # (n_samples, n_classes)"
      ]
    },
    {
      "cell_type": "code",
      "execution_count": 70,
      "metadata": {
        "colab": {
          "base_uri": "https://localhost:8080/"
        },
        "id": "QsY7ampHa3cU",
        "outputId": "8c21c289-4a4b-4cf7-de8b-2f640e5ad9b4"
      },
      "outputs": [
        {
          "data": {
            "text/plain": [
              "array([[0, 1, 0, 0, 0],\n",
              "       [0, 0, 0, 1, 0],\n",
              "       [0, 1, 0, 0, 0],\n",
              "       ...,\n",
              "       [0, 0, 1, 0, 0],\n",
              "       [0, 1, 0, 0, 0],\n",
              "       [0, 0, 1, 0, 0]])"
            ]
          },
          "execution_count": 70,
          "metadata": {},
          "output_type": "execute_result"
        }
      ],
      "source": [
        "y_score"
      ]
    },
    {
      "cell_type": "code",
      "execution_count": 49,
      "metadata": {
        "colab": {
          "base_uri": "https://localhost:8080/"
        },
        "id": "ccfycZk-VXOy",
        "outputId": "ea85dcb8-0bb8-4a11-9234-c4c93d25a077"
      },
      "outputs": [
        {
          "data": {
            "text/plain": [
              "array([[1, 0, 0, 0, 0]])"
            ]
          },
          "execution_count": 49,
          "metadata": {},
          "output_type": "execute_result"
        }
      ],
      "source": [
        "label_binarizer.transform([0])"
      ]
    },
    {
      "cell_type": "code",
      "execution_count": 50,
      "metadata": {
        "colab": {
          "base_uri": "https://localhost:8080/"
        },
        "id": "eM47Mw8JVqt2",
        "outputId": "d1395ad1-4e45-4a49-c734-37b41308c0e2"
      },
      "outputs": [
        {
          "data": {
            "text/plain": [
              "0"
            ]
          },
          "execution_count": 50,
          "metadata": {},
          "output_type": "execute_result"
        }
      ],
      "source": [
        "class_of_interest = 0\n",
        "class_id = np.flatnonzero(label_binarizer.classes_ == class_of_interest)[0]\n",
        "class_id"
      ]
    },
    {
      "cell_type": "code",
      "execution_count": 71,
      "metadata": {
        "colab": {
          "base_uri": "https://localhost:8080/",
          "height": 593
        },
        "id": "Q1vsgZVMVw4b",
        "outputId": "42eb4758-0c4b-4bd4-f048-35281cc68480"
      },
      "outputs": [
        {
          "data": {
            "image/png": "[encoded data removed]",
            "text/plain": [
              "<Figure size 1200x600 with 1 Axes>"
            ]
          },
          "metadata": {},
          "output_type": "display_data"
        }
      ],
      "source": [
        "import matplotlib.pyplot as plt\n",
        "from sklearn.metrics import RocCurveDisplay\n",
        "\n",
        "RocCurveDisplay.from_predictions(\n",
        "    y_onehot_test[:, class_id],\n",
        "    y_score[:, class_id],\n",
        "    name=f\"{class_of_interest} vs the rest\",\n",
        "    color=\"darkorange\",\n",
        ")\n",
        "plt.plot([0, 1], [0, 1], \"k--\", label=\"chance level (AUC = 0.5)\")\n",
        "plt.axis(\"square\")\n",
        "plt.xlabel(\"False Positive Rate\")\n",
        "plt.ylabel(\"True Positive Rate\")\n",
        "plt.title(\"One-vs-Rest ROC curves:\\nVirginica vs (Setosa & Versicolor)\")\n",
        "plt.legend()\n",
        "plt.show()"
      ]
    },
    {
      "cell_type": "code",
      "execution_count": 58,
      "metadata": {
        "id": "XPyASw66Yf7M"
      },
      "outputs": [],
      "source": [
        "from tensorflow.python.ops.numpy_ops import np_config\n",
        "np_config.enable_numpy_behavior()"
      ]
    },
    {
      "cell_type": "code",
      "execution_count": 61,
      "metadata": {
        "id": "-TtOGHp8Z299"
      },
      "outputs": [],
      "source": [
        "n_classes = 5\n",
        "target_names = ['Benign',\n",
        "'DoS attacks-GoldenEye' ,\n",
        "'DoS attacks-Slowloris' ,\n",
        "'FTP-BruteForce',                      \n",
        "'SSH-Bruteforce']"
      ]
    },
    {
      "cell_type": "code",
      "execution_count": 72,
      "metadata": {
        "colab": {
          "base_uri": "https://localhost:8080/",
          "height": 593
        },
        "id": "_nnbwQ4dXdkm",
        "outputId": "f74483e3-0e8a-4e1f-c34b-7e01c53ae66c"
      },
      "outputs": [
        {
          "data": {
            "image/png": "[encoded data removed]",
            "text/plain": [
              "<Figure size 600x600 with 1 Axes>"
            ]
          },
          "metadata": {},
          "output_type": "display_data"
        }
      ],
      "source": [
        "from itertools import cycle\n",
        "\n",
        "fig, ax = plt.subplots(figsize=(6, 6))\n",
        "\n",
        "colors = cycle([\"aqua\", \"darkorange\", \"cornflowerblue\"])\n",
        "for class_id, color in zip(range(n_classes), colors):\n",
        "    RocCurveDisplay.from_predictions(\n",
        "        y_onehot_test[:, class_id],\n",
        "        y_score[:, class_id],\n",
        "        name=f\"ROC curve for {target_names[class_id]}\",\n",
        "        color=color,\n",
        "        ax=ax,\n",
        "    )\n",
        "\n",
        "plt.plot([0, 1], [0, 1], \"k--\", label=\"ROC curve for chance level (AUC = 0.5)\")\n",
        "plt.axis(\"square\")\n",
        "plt.xlabel(\"False Positive Rate\")\n",
        "plt.ylabel(\"True Positive Rate\")\n",
        "plt.title(\"Extension of Receiver Operating Characteristic\\nto One-vs-Rest multiclass\")\n",
        "plt.legend()\n",
        "plt.show()\n"
      ]
    }
  ],
  "metadata": {
    "accelerator": "GPU",
    "colab": {
      "provenance": []
    },
    "gpuClass": "standard",
    "kernelspec": {
      "display_name": "Python 3",
      "name": "python3"
    },
    "language_info": {
      "codemirror_mode": {
        "name": "ipython",
        "version": 3
      },
      "file_extension": ".py",
      "mimetype": "text/x-python",
      "name": "python",
      "nbconvert_exporter": "python",
      "pygments_lexer": "ipython3",
      "version": "3.11.2"
    }
  },
  "nbformat": 4,
  "nbformat_minor": 0
}
